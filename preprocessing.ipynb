{
 "cells": [
  {
   "cell_type": "code",
   "execution_count": 15,
   "id": "2bc9b76a-705a-4a74-ada1-5443265ec7ed",
   "metadata": {},
   "outputs": [
    {
     "name": "stdout",
     "output_type": "stream",
     "text": [
      "✅ 데이터 전처리 및 저장 완료!\n"
     ]
    }
   ],
   "source": [
    "import pandas as pd\n",
    "import matplotlib.pyplot as plt\n",
    "import seaborn as sns\n",
    "import os\n",
    "\n",
    "# 1. 파일 경로\n",
    "climate_path = \"data/기상청_연도별기온.csv\"\n",
    "health_path = \"data/홍역.csv\"\n",
    "\n",
    "# 2. 컬럼 매핑 (자동 변환)\n",
    "column_mapping = {\n",
    "    \"년월\": \"연도\", \n",
    "    \"날짜\": \"연도\",\n",
    "    \"년\": \"연도\", \n",
    "    \"기온\": \"평균기온\",\n",
    "    \"시도\": \"지역\",\n",
    "}\n",
    "\n",
    "# 3. 관측지점 번호 -> 지역 매핑\n",
    "station_to_region = {\n",
    "    108: '서울', 159: '부산', 143: '대구', 112: '인천', 156: '광주',\n",
    "    133: '대전', 152: '울산', 119: '경기', 105: '강원', 131: '충북',\n",
    "    133: '충남', 146: '전북', 165: '전남', 136: '경북', 155: '경남',\n",
    "    184: '제주', 133: '세종'  # 대전(133)과 세종 공유\n",
    "}\n",
    "\n",
    "# 4.기후 데이터 전처리 함수(기상청 데이터)\n",
    "def preprocess_climate_data(filepath):\n",
    "    df = pd.read_csv(filepath, skiprows=6)\n",
    "    df.rename(columns=column_mapping, inplace=True)\n",
    "    \n",
    "    # 연도 컬럼 변환\n",
    "    df[\"연도\"] = pd.to_datetime(df[\"연도\"], errors='coerce').dt.year\n",
    "    \n",
    "    # 컬럼명 표준화\n",
    "    df.columns = ['연도', '지역', '평균기온(℃)', '평균최저기온(℃)', '평균최고기온(℃)']\n",
    "    \n",
    "    # 관측지점 번호 -> 지역명 변환\n",
    "    df = df[df['지역'].isin(station_to_region.keys())]\n",
    "    df['지역'] = df['지역'].map(station_to_region)\n",
    "    \n",
    "    return df\n",
    "\n",
    "# 4. 감염병 데이터 전처리 함수(질병관리청 데이터)\n",
    "def preprocess_health_data(filepath):\n",
    "    df = pd.read_csv(filepath)\n",
    "    \n",
    "    # 파일명에서 질병명 추출\n",
    "    disease_name = os.path.basename(filepath).split('.')[0]  # 확장자 제외\n",
    "\n",
    "    # 컬럼명 표준화\n",
    "    df.columns = ['지역', '2018', '2019', '2020', '2021', '2022', '2023', '2024']\n",
    "    \n",
    "    # Wide -> Long 형태 변환 (melt)\n",
    "    df = pd.melt(\n",
    "        df,\n",
    "        id_vars=['지역'],  \n",
    "        var_name='연도',   \n",
    "        value_name=disease_name  # 파일명을 컬럼명으로 설정\n",
    "    )\n",
    "    \n",
    "    # 연도 컬럼을 숫자로 변환\n",
    "    df[\"연도\"] = pd.to_numeric(df[\"연도\"], errors='coerce')\n",
    "    \n",
    "    return df\n",
    "\n",
    "\n",
    "df_health = preprocess_health_data(health_path)\n",
    "\n",
    "df_health.to_csv(health_path, index=False, encoding='utf-8-sig')\n",
    "\n",
    "print(\"✅ 데이터 전처리 및 저장 완료!\")\n"
   ]
  },
  {
   "cell_type": "code",
   "execution_count": 19,
   "id": "062c2409-fc75-4992-9f17-c30f8edc130e",
   "metadata": {},
   "outputs": [],
   "source": [
    "import pandas as pd\n",
    "\n",
    "health_path = \"data/홍역.csv\"\n",
    "\n",
    "# CSV 파일 읽기\n",
    "df = pd.read_csv(health_path)\n",
    "\n",
    "# 컬럼명 변경 (오타 수정)\n",
    "df.columns = ['지역', '연도', '홍역']\n",
    "\n",
    "# CSV 파일 저장 (utf-8-sig 인코딩 사용)\n",
    "df.to_csv(health_path, index=False, encoding='utf-8-sig')\n"
   ]
  },
  {
   "cell_type": "code",
   "execution_count": null,
   "id": "dea31f61-ccea-454d-9c58-05e05294d6fc",
   "metadata": {},
   "outputs": [],
   "source": []
  }
 ],
 "metadata": {
  "kernelspec": {
   "display_name": "Python [conda env:base] *",
   "language": "python",
   "name": "conda-base-py"
  },
  "language_info": {
   "codemirror_mode": {
    "name": "ipython",
    "version": 3
   },
   "file_extension": ".py",
   "mimetype": "text/x-python",
   "name": "python",
   "nbconvert_exporter": "python",
   "pygments_lexer": "ipython3",
   "version": "3.12.7"
  }
 },
 "nbformat": 4,
 "nbformat_minor": 5
}
