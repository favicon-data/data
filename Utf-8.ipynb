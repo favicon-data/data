{
 "cells": [
  {
   "cell_type": "markdown",
   "id": "177f5f37-f858-418b-9e36-7bfd8177be26",
   "metadata": {},
   "source": [
    "### xlsx파일 CSV utf-8파일으로 변환"
   ]
  },
  {
   "cell_type": "code",
   "execution_count": 1,
   "id": "61780e88-c8af-4cb7-957f-7b834b4857dc",
   "metadata": {},
   "outputs": [
    {
     "name": "stderr",
     "output_type": "stream",
     "text": [
      "C:\\Users\\ys000\\anaconda3\\Lib\\site-packages\\openpyxl\\styles\\stylesheet.py:237: UserWarning: Workbook contains no default style, apply openpyxl's default\n",
      "  warn(\"Workbook contains no default style, apply openpyxl's default\")\n",
      "C:\\Users\\ys000\\anaconda3\\Lib\\site-packages\\openpyxl\\styles\\stylesheet.py:237: UserWarning: Workbook contains no default style, apply openpyxl's default\n",
      "  warn(\"Workbook contains no default style, apply openpyxl's default\")\n",
      "C:\\Users\\ys000\\anaconda3\\Lib\\site-packages\\openpyxl\\styles\\stylesheet.py:237: UserWarning: Workbook contains no default style, apply openpyxl's default\n",
      "  warn(\"Workbook contains no default style, apply openpyxl's default\")\n",
      "C:\\Users\\ys000\\anaconda3\\Lib\\site-packages\\openpyxl\\styles\\stylesheet.py:237: UserWarning: Workbook contains no default style, apply openpyxl's default\n",
      "  warn(\"Workbook contains no default style, apply openpyxl's default\")\n"
     ]
    },
    {
     "name": "stdout",
     "output_type": "stream",
     "text": [
      "변환 완료: A형간염_2021-06_2024-06.xlsx -> C:\\Users\\ys000\\capstone\\data\\질병_csv\\A형간염_2021-06_2024-06.csv\n",
      "변환 완료: C형간염.xlsx -> C:\\Users\\ys000\\capstone\\data\\질병_csv\\C형간염.csv\n",
      "변환 완료: C형간염_2021-06_2024-06.xlsx -> C:\\Users\\ys000\\capstone\\data\\질병_csv\\C형간염_2021-06_2024-06.csv\n",
      "변환 완료: [한방]감염성 관절병증_2021-06_2024-06.xlsx -> C:\\Users\\ys000\\capstone\\data\\질병_csv\\[한방]감염성 관절병증_2021-06_2024-06.csv\n"
     ]
    },
    {
     "name": "stderr",
     "output_type": "stream",
     "text": [
      "C:\\Users\\ys000\\anaconda3\\Lib\\site-packages\\openpyxl\\styles\\stylesheet.py:237: UserWarning: Workbook contains no default style, apply openpyxl's default\n",
      "  warn(\"Workbook contains no default style, apply openpyxl's default\")\n",
      "C:\\Users\\ys000\\anaconda3\\Lib\\site-packages\\openpyxl\\styles\\stylesheet.py:237: UserWarning: Workbook contains no default style, apply openpyxl's default\n",
      "  warn(\"Workbook contains no default style, apply openpyxl's default\")\n",
      "C:\\Users\\ys000\\anaconda3\\Lib\\site-packages\\openpyxl\\styles\\stylesheet.py:237: UserWarning: Workbook contains no default style, apply openpyxl's default\n",
      "  warn(\"Workbook contains no default style, apply openpyxl's default\")\n"
     ]
    },
    {
     "name": "stdout",
     "output_type": "stream",
     "text": [
      "변환 완료: [한방]경추질환_2021-06_2024-06.xlsx -> C:\\Users\\ys000\\capstone\\data\\질병_csv\\[한방]경추질환_2021-06_2024-06.csv\n",
      "변환 완료: [한방]관절병증_2021-06_2024-06.xlsx -> C:\\Users\\ys000\\capstone\\data\\질병_csv\\[한방]관절병증_2021-06_2024-06.csv\n",
      "변환 완료: [한방]근막통증증후군_2021-06_2024-06.xlsx -> C:\\Users\\ys000\\capstone\\data\\질병_csv\\[한방]근막통증증후군_2021-06_2024-06.csv\n"
     ]
    },
    {
     "name": "stderr",
     "output_type": "stream",
     "text": [
      "C:\\Users\\ys000\\anaconda3\\Lib\\site-packages\\openpyxl\\styles\\stylesheet.py:237: UserWarning: Workbook contains no default style, apply openpyxl's default\n",
      "  warn(\"Workbook contains no default style, apply openpyxl's default\")\n",
      "C:\\Users\\ys000\\anaconda3\\Lib\\site-packages\\openpyxl\\styles\\stylesheet.py:237: UserWarning: Workbook contains no default style, apply openpyxl's default\n",
      "  warn(\"Workbook contains no default style, apply openpyxl's default\")\n",
      "C:\\Users\\ys000\\anaconda3\\Lib\\site-packages\\openpyxl\\styles\\stylesheet.py:237: UserWarning: Workbook contains no default style, apply openpyxl's default\n",
      "  warn(\"Workbook contains no default style, apply openpyxl's default\")\n"
     ]
    },
    {
     "name": "stdout",
     "output_type": "stream",
     "text": [
      "변환 완료: 가려움증_2021-06_2024-06.xlsx -> C:\\Users\\ys000\\capstone\\data\\질병_csv\\가려움증_2021-06_2024-06.csv\n",
      "변환 완료: 간경변증_2021-06_2024-06.xlsx -> C:\\Users\\ys000\\capstone\\data\\질병_csv\\간경변증_2021-06_2024-06.csv\n",
      "변환 완료: 감기_2021-06_2024-06.xlsx -> C:\\Users\\ys000\\capstone\\data\\질병_csv\\감기_2021-06_2024-06.csv\n"
     ]
    },
    {
     "name": "stderr",
     "output_type": "stream",
     "text": [
      "C:\\Users\\ys000\\anaconda3\\Lib\\site-packages\\openpyxl\\styles\\stylesheet.py:237: UserWarning: Workbook contains no default style, apply openpyxl's default\n",
      "  warn(\"Workbook contains no default style, apply openpyxl's default\")\n",
      "C:\\Users\\ys000\\anaconda3\\Lib\\site-packages\\openpyxl\\styles\\stylesheet.py:237: UserWarning: Workbook contains no default style, apply openpyxl's default\n",
      "  warn(\"Workbook contains no default style, apply openpyxl's default\")\n",
      "C:\\Users\\ys000\\anaconda3\\Lib\\site-packages\\openpyxl\\styles\\stylesheet.py:237: UserWarning: Workbook contains no default style, apply openpyxl's default\n",
      "  warn(\"Workbook contains no default style, apply openpyxl's default\")\n"
     ]
    },
    {
     "name": "stdout",
     "output_type": "stream",
     "text": [
      "변환 완료: 감염성 관절병증_2021-06_2024-06.xlsx -> C:\\Users\\ys000\\capstone\\data\\질병_csv\\감염성 관절병증_2021-06_2024-06.csv\n",
      "변환 완료: 갑상선 기능 저하증_2021-06_2024-06.xlsx -> C:\\Users\\ys000\\capstone\\data\\질병_csv\\갑상선 기능 저하증_2021-06_2024-06.csv\n",
      "변환 완료: 갑상선 기능 항진증_2021-06_2024-06.xlsx -> C:\\Users\\ys000\\capstone\\data\\질병_csv\\갑상선 기능 항진증_2021-06_2024-06.csv\n"
     ]
    },
    {
     "name": "stderr",
     "output_type": "stream",
     "text": [
      "C:\\Users\\ys000\\anaconda3\\Lib\\site-packages\\openpyxl\\styles\\stylesheet.py:237: UserWarning: Workbook contains no default style, apply openpyxl's default\n",
      "  warn(\"Workbook contains no default style, apply openpyxl's default\")\n",
      "C:\\Users\\ys000\\anaconda3\\Lib\\site-packages\\openpyxl\\styles\\stylesheet.py:237: UserWarning: Workbook contains no default style, apply openpyxl's default\n",
      "  warn(\"Workbook contains no default style, apply openpyxl's default\")\n",
      "C:\\Users\\ys000\\anaconda3\\Lib\\site-packages\\openpyxl\\styles\\stylesheet.py:237: UserWarning: Workbook contains no default style, apply openpyxl's default\n",
      "  warn(\"Workbook contains no default style, apply openpyxl's default\")\n"
     ]
    },
    {
     "name": "stdout",
     "output_type": "stream",
     "text": [
      "변환 완료: 강박증_2021-06_2024-06.xlsx -> C:\\Users\\ys000\\capstone\\data\\질병_csv\\강박증_2021-06_2024-06.csv\n",
      "변환 완료: 거북목(일자목)증후군_2021-06_2024-06.xlsx -> C:\\Users\\ys000\\capstone\\data\\질병_csv\\거북목(일자목)증후군_2021-06_2024-06.csv\n",
      "변환 완료: 거식증_2021-06_2024-06.xlsx -> C:\\Users\\ys000\\capstone\\data\\질병_csv\\거식증_2021-06_2024-06.csv\n"
     ]
    },
    {
     "name": "stderr",
     "output_type": "stream",
     "text": [
      "C:\\Users\\ys000\\anaconda3\\Lib\\site-packages\\openpyxl\\styles\\stylesheet.py:237: UserWarning: Workbook contains no default style, apply openpyxl's default\n",
      "  warn(\"Workbook contains no default style, apply openpyxl's default\")\n",
      "C:\\Users\\ys000\\anaconda3\\Lib\\site-packages\\openpyxl\\styles\\stylesheet.py:237: UserWarning: Workbook contains no default style, apply openpyxl's default\n",
      "  warn(\"Workbook contains no default style, apply openpyxl's default\")\n",
      "C:\\Users\\ys000\\anaconda3\\Lib\\site-packages\\openpyxl\\styles\\stylesheet.py:237: UserWarning: Workbook contains no default style, apply openpyxl's default\n",
      "  warn(\"Workbook contains no default style, apply openpyxl's default\")\n",
      "C:\\Users\\ys000\\anaconda3\\Lib\\site-packages\\openpyxl\\styles\\stylesheet.py:237: UserWarning: Workbook contains no default style, apply openpyxl's default\n",
      "  warn(\"Workbook contains no default style, apply openpyxl's default\")\n"
     ]
    },
    {
     "name": "stdout",
     "output_type": "stream",
     "text": [
      "변환 완료: 건선_2021-06_2024-06.xlsx -> C:\\Users\\ys000\\capstone\\data\\질병_csv\\건선_2021-06_2024-06.csv\n",
      "변환 완료: 결핵_2021-06_2024-06.xlsx -> C:\\Users\\ys000\\capstone\\data\\질병_csv\\결핵_2021-06_2024-06.csv\n",
      "변환 완료: 고위험산모_다태아임신_2021-06_2024-06.xlsx -> C:\\Users\\ys000\\capstone\\data\\질병_csv\\고위험산모_다태아임신_2021-06_2024-06.csv\n",
      "변환 완료: 고위험산모_선천성 태아기형_2021-06_2024-06.xlsx -> C:\\Users\\ys000\\capstone\\data\\질병_csv\\고위험산모_선천성 태아기형_2021-06_2024-06.csv\n"
     ]
    },
    {
     "name": "stderr",
     "output_type": "stream",
     "text": [
      "C:\\Users\\ys000\\anaconda3\\Lib\\site-packages\\openpyxl\\styles\\stylesheet.py:237: UserWarning: Workbook contains no default style, apply openpyxl's default\n",
      "  warn(\"Workbook contains no default style, apply openpyxl's default\")\n",
      "C:\\Users\\ys000\\anaconda3\\Lib\\site-packages\\openpyxl\\styles\\stylesheet.py:237: UserWarning: Workbook contains no default style, apply openpyxl's default\n",
      "  warn(\"Workbook contains no default style, apply openpyxl's default\")\n",
      "C:\\Users\\ys000\\anaconda3\\Lib\\site-packages\\openpyxl\\styles\\stylesheet.py:237: UserWarning: Workbook contains no default style, apply openpyxl's default\n",
      "  warn(\"Workbook contains no default style, apply openpyxl's default\")\n"
     ]
    },
    {
     "name": "stdout",
     "output_type": "stream",
     "text": [
      "변환 완료: 고위험산모_임신성 당뇨병_2021-06_2024-06.xlsx -> C:\\Users\\ys000\\capstone\\data\\질병_csv\\고위험산모_임신성 당뇨병_2021-06_2024-06.csv\n",
      "변환 완료: 고위험산모_임신중독증(고혈압, 단백뇨, 부종)_2021-06_2024-06.xlsx -> C:\\Users\\ys000\\capstone\\data\\질병_csv\\고위험산모_임신중독증(고혈압, 단백뇨, 부종)_2021-06_2024-06.csv\n",
      "변환 완료: 고위험산모_자궁경관무력증_2021-06_2024-06.xlsx -> C:\\Users\\ys000\\capstone\\data\\질병_csv\\고위험산모_자궁경관무력증_2021-06_2024-06.csv\n"
     ]
    },
    {
     "name": "stderr",
     "output_type": "stream",
     "text": [
      "C:\\Users\\ys000\\anaconda3\\Lib\\site-packages\\openpyxl\\styles\\stylesheet.py:237: UserWarning: Workbook contains no default style, apply openpyxl's default\n",
      "  warn(\"Workbook contains no default style, apply openpyxl's default\")\n",
      "C:\\Users\\ys000\\anaconda3\\Lib\\site-packages\\openpyxl\\styles\\stylesheet.py:237: UserWarning: Workbook contains no default style, apply openpyxl's default\n",
      "  warn(\"Workbook contains no default style, apply openpyxl's default\")\n",
      "C:\\Users\\ys000\\anaconda3\\Lib\\site-packages\\openpyxl\\styles\\stylesheet.py:237: UserWarning: Workbook contains no default style, apply openpyxl's default\n",
      "  warn(\"Workbook contains no default style, apply openpyxl's default\")\n"
     ]
    },
    {
     "name": "stdout",
     "output_type": "stream",
     "text": [
      "변환 완료: 고위험산모_자궁기형_2021-06_2024-06.xlsx -> C:\\Users\\ys000\\capstone\\data\\질병_csv\\고위험산모_자궁기형_2021-06_2024-06.csv\n",
      "변환 완료: 고위험산모_저체중아 산모_2021-06_2024-06.xlsx -> C:\\Users\\ys000\\capstone\\data\\질병_csv\\고위험산모_저체중아 산모_2021-06_2024-06.csv\n",
      "변환 완료: 고위험산모_조기진통_2021-06_2024-06.xlsx -> C:\\Users\\ys000\\capstone\\data\\질병_csv\\고위험산모_조기진통_2021-06_2024-06.csv\n",
      "변환 완료: 고혈압_2021-06_2024-06.xlsx -> C:\\Users\\ys000\\capstone\\data\\질병_csv\\고혈압_2021-06_2024-06.csv\n",
      "변환 완료: 골다공증_2021-06_2024-06.xlsx -> C:\\Users\\ys000\\capstone\\data\\질병_csv\\골다공증_2021-06_2024-06.csv\n"
     ]
    },
    {
     "name": "stderr",
     "output_type": "stream",
     "text": [
      "C:\\Users\\ys000\\anaconda3\\Lib\\site-packages\\openpyxl\\styles\\stylesheet.py:237: UserWarning: Workbook contains no default style, apply openpyxl's default\n",
      "  warn(\"Workbook contains no default style, apply openpyxl's default\")\n",
      "C:\\Users\\ys000\\anaconda3\\Lib\\site-packages\\openpyxl\\styles\\stylesheet.py:237: UserWarning: Workbook contains no default style, apply openpyxl's default\n",
      "  warn(\"Workbook contains no default style, apply openpyxl's default\")\n",
      "C:\\Users\\ys000\\anaconda3\\Lib\\site-packages\\openpyxl\\styles\\stylesheet.py:237: UserWarning: Workbook contains no default style, apply openpyxl's default\n",
      "  warn(\"Workbook contains no default style, apply openpyxl's default\")\n"
     ]
    },
    {
     "name": "stdout",
     "output_type": "stream",
     "text": [
      "변환 완료: 골절_2021-06_2024-06.xlsx -> C:\\Users\\ys000\\capstone\\data\\질병_csv\\골절_2021-06_2024-06.csv\n",
      "변환 완료: 공황장애_2021-06_2024-06.xlsx -> C:\\Users\\ys000\\capstone\\data\\질병_csv\\공황장애_2021-06_2024-06.csv\n",
      "변환 완료: 구강암_2021-06_2024-06.xlsx -> C:\\Users\\ys000\\capstone\\data\\질병_csv\\구강암_2021-06_2024-06.csv\n"
     ]
    },
    {
     "name": "stderr",
     "output_type": "stream",
     "text": [
      "C:\\Users\\ys000\\anaconda3\\Lib\\site-packages\\openpyxl\\styles\\stylesheet.py:237: UserWarning: Workbook contains no default style, apply openpyxl's default\n",
      "  warn(\"Workbook contains no default style, apply openpyxl's default\")\n",
      "C:\\Users\\ys000\\anaconda3\\Lib\\site-packages\\openpyxl\\styles\\stylesheet.py:237: UserWarning: Workbook contains no default style, apply openpyxl's default\n",
      "  warn(\"Workbook contains no default style, apply openpyxl's default\")\n",
      "C:\\Users\\ys000\\anaconda3\\Lib\\site-packages\\openpyxl\\styles\\stylesheet.py:237: UserWarning: Workbook contains no default style, apply openpyxl's default\n",
      "  warn(\"Workbook contains no default style, apply openpyxl's default\")\n"
     ]
    },
    {
     "name": "stdout",
     "output_type": "stream",
     "text": [
      "변환 완료: 국민관심질병_요양기관소재지별현황_202106_202406 (1).xlsx -> C:\\Users\\ys000\\capstone\\data\\질병_csv\\국민관심질병_요양기관소재지별현황_202106_202406 (1).csv\n",
      "변환 완료: 국민관심질병_요양기관소재지별현황_202106_202406 (10).xlsx -> C:\\Users\\ys000\\capstone\\data\\질병_csv\\국민관심질병_요양기관소재지별현황_202106_202406 (10).csv\n",
      "변환 완료: 국민관심질병_요양기관소재지별현황_202106_202406 (11).xlsx -> C:\\Users\\ys000\\capstone\\data\\질병_csv\\국민관심질병_요양기관소재지별현황_202106_202406 (11).csv\n"
     ]
    },
    {
     "name": "stderr",
     "output_type": "stream",
     "text": [
      "C:\\Users\\ys000\\anaconda3\\Lib\\site-packages\\openpyxl\\styles\\stylesheet.py:237: UserWarning: Workbook contains no default style, apply openpyxl's default\n",
      "  warn(\"Workbook contains no default style, apply openpyxl's default\")\n",
      "C:\\Users\\ys000\\anaconda3\\Lib\\site-packages\\openpyxl\\styles\\stylesheet.py:237: UserWarning: Workbook contains no default style, apply openpyxl's default\n",
      "  warn(\"Workbook contains no default style, apply openpyxl's default\")\n",
      "C:\\Users\\ys000\\anaconda3\\Lib\\site-packages\\openpyxl\\styles\\stylesheet.py:237: UserWarning: Workbook contains no default style, apply openpyxl's default\n",
      "  warn(\"Workbook contains no default style, apply openpyxl's default\")\n"
     ]
    },
    {
     "name": "stdout",
     "output_type": "stream",
     "text": [
      "변환 완료: 국민관심질병_요양기관소재지별현황_202106_202406 (12).xlsx -> C:\\Users\\ys000\\capstone\\data\\질병_csv\\국민관심질병_요양기관소재지별현황_202106_202406 (12).csv\n",
      "변환 완료: 국민관심질병_요양기관소재지별현황_202106_202406 (13).xlsx -> C:\\Users\\ys000\\capstone\\data\\질병_csv\\국민관심질병_요양기관소재지별현황_202106_202406 (13).csv\n",
      "변환 완료: 국민관심질병_요양기관소재지별현황_202106_202406 (14).xlsx -> C:\\Users\\ys000\\capstone\\data\\질병_csv\\국민관심질병_요양기관소재지별현황_202106_202406 (14).csv\n"
     ]
    },
    {
     "name": "stderr",
     "output_type": "stream",
     "text": [
      "C:\\Users\\ys000\\anaconda3\\Lib\\site-packages\\openpyxl\\styles\\stylesheet.py:237: UserWarning: Workbook contains no default style, apply openpyxl's default\n",
      "  warn(\"Workbook contains no default style, apply openpyxl's default\")\n",
      "C:\\Users\\ys000\\anaconda3\\Lib\\site-packages\\openpyxl\\styles\\stylesheet.py:237: UserWarning: Workbook contains no default style, apply openpyxl's default\n",
      "  warn(\"Workbook contains no default style, apply openpyxl's default\")\n",
      "C:\\Users\\ys000\\anaconda3\\Lib\\site-packages\\openpyxl\\styles\\stylesheet.py:237: UserWarning: Workbook contains no default style, apply openpyxl's default\n",
      "  warn(\"Workbook contains no default style, apply openpyxl's default\")\n"
     ]
    },
    {
     "name": "stdout",
     "output_type": "stream",
     "text": [
      "변환 완료: 국민관심질병_요양기관소재지별현황_202106_202406 (15).xlsx -> C:\\Users\\ys000\\capstone\\data\\질병_csv\\국민관심질병_요양기관소재지별현황_202106_202406 (15).csv\n",
      "변환 완료: 국민관심질병_요양기관소재지별현황_202106_202406 (16).xlsx -> C:\\Users\\ys000\\capstone\\data\\질병_csv\\국민관심질병_요양기관소재지별현황_202106_202406 (16).csv\n"
     ]
    },
    {
     "name": "stderr",
     "output_type": "stream",
     "text": [
      "C:\\Users\\ys000\\anaconda3\\Lib\\site-packages\\openpyxl\\styles\\stylesheet.py:237: UserWarning: Workbook contains no default style, apply openpyxl's default\n",
      "  warn(\"Workbook contains no default style, apply openpyxl's default\")\n",
      "C:\\Users\\ys000\\anaconda3\\Lib\\site-packages\\openpyxl\\styles\\stylesheet.py:237: UserWarning: Workbook contains no default style, apply openpyxl's default\n",
      "  warn(\"Workbook contains no default style, apply openpyxl's default\")\n"
     ]
    },
    {
     "name": "stdout",
     "output_type": "stream",
     "text": [
      "변환 완료: 국민관심질병_요양기관소재지별현황_202106_202406 (17).xlsx -> C:\\Users\\ys000\\capstone\\data\\질병_csv\\국민관심질병_요양기관소재지별현황_202106_202406 (17).csv\n",
      "변환 완료: 국민관심질병_요양기관소재지별현황_202106_202406 (18).xlsx -> C:\\Users\\ys000\\capstone\\data\\질병_csv\\국민관심질병_요양기관소재지별현황_202106_202406 (18).csv\n"
     ]
    },
    {
     "name": "stderr",
     "output_type": "stream",
     "text": [
      "C:\\Users\\ys000\\anaconda3\\Lib\\site-packages\\openpyxl\\styles\\stylesheet.py:237: UserWarning: Workbook contains no default style, apply openpyxl's default\n",
      "  warn(\"Workbook contains no default style, apply openpyxl's default\")\n",
      "C:\\Users\\ys000\\anaconda3\\Lib\\site-packages\\openpyxl\\styles\\stylesheet.py:237: UserWarning: Workbook contains no default style, apply openpyxl's default\n",
      "  warn(\"Workbook contains no default style, apply openpyxl's default\")\n"
     ]
    },
    {
     "name": "stdout",
     "output_type": "stream",
     "text": [
      "변환 완료: 국민관심질병_요양기관소재지별현황_202106_202406 (19).xlsx -> C:\\Users\\ys000\\capstone\\data\\질병_csv\\국민관심질병_요양기관소재지별현황_202106_202406 (19).csv\n",
      "변환 완료: 국민관심질병_요양기관소재지별현황_202106_202406 (2).xlsx -> C:\\Users\\ys000\\capstone\\data\\질병_csv\\국민관심질병_요양기관소재지별현황_202106_202406 (2).csv\n"
     ]
    },
    {
     "name": "stderr",
     "output_type": "stream",
     "text": [
      "C:\\Users\\ys000\\anaconda3\\Lib\\site-packages\\openpyxl\\styles\\stylesheet.py:237: UserWarning: Workbook contains no default style, apply openpyxl's default\n",
      "  warn(\"Workbook contains no default style, apply openpyxl's default\")\n",
      "C:\\Users\\ys000\\anaconda3\\Lib\\site-packages\\openpyxl\\styles\\stylesheet.py:237: UserWarning: Workbook contains no default style, apply openpyxl's default\n",
      "  warn(\"Workbook contains no default style, apply openpyxl's default\")\n"
     ]
    },
    {
     "name": "stdout",
     "output_type": "stream",
     "text": [
      "변환 완료: 국민관심질병_요양기관소재지별현황_202106_202406 (20).xlsx -> C:\\Users\\ys000\\capstone\\data\\질병_csv\\국민관심질병_요양기관소재지별현황_202106_202406 (20).csv\n",
      "변환 완료: 국민관심질병_요양기관소재지별현황_202106_202406 (21).xlsx -> C:\\Users\\ys000\\capstone\\data\\질병_csv\\국민관심질병_요양기관소재지별현황_202106_202406 (21).csv\n"
     ]
    },
    {
     "name": "stderr",
     "output_type": "stream",
     "text": [
      "C:\\Users\\ys000\\anaconda3\\Lib\\site-packages\\openpyxl\\styles\\stylesheet.py:237: UserWarning: Workbook contains no default style, apply openpyxl's default\n",
      "  warn(\"Workbook contains no default style, apply openpyxl's default\")\n",
      "C:\\Users\\ys000\\anaconda3\\Lib\\site-packages\\openpyxl\\styles\\stylesheet.py:237: UserWarning: Workbook contains no default style, apply openpyxl's default\n",
      "  warn(\"Workbook contains no default style, apply openpyxl's default\")\n",
      "C:\\Users\\ys000\\anaconda3\\Lib\\site-packages\\openpyxl\\styles\\stylesheet.py:237: UserWarning: Workbook contains no default style, apply openpyxl's default\n",
      "  warn(\"Workbook contains no default style, apply openpyxl's default\")\n"
     ]
    },
    {
     "name": "stdout",
     "output_type": "stream",
     "text": [
      "변환 완료: 국민관심질병_요양기관소재지별현황_202106_202406 (22).xlsx -> C:\\Users\\ys000\\capstone\\data\\질병_csv\\국민관심질병_요양기관소재지별현황_202106_202406 (22).csv\n",
      "변환 완료: 국민관심질병_요양기관소재지별현황_202106_202406 (23).xlsx -> C:\\Users\\ys000\\capstone\\data\\질병_csv\\국민관심질병_요양기관소재지별현황_202106_202406 (23).csv\n"
     ]
    },
    {
     "name": "stderr",
     "output_type": "stream",
     "text": [
      "C:\\Users\\ys000\\anaconda3\\Lib\\site-packages\\openpyxl\\styles\\stylesheet.py:237: UserWarning: Workbook contains no default style, apply openpyxl's default\n",
      "  warn(\"Workbook contains no default style, apply openpyxl's default\")\n",
      "C:\\Users\\ys000\\anaconda3\\Lib\\site-packages\\openpyxl\\styles\\stylesheet.py:237: UserWarning: Workbook contains no default style, apply openpyxl's default\n",
      "  warn(\"Workbook contains no default style, apply openpyxl's default\")\n",
      "C:\\Users\\ys000\\anaconda3\\Lib\\site-packages\\openpyxl\\styles\\stylesheet.py:237: UserWarning: Workbook contains no default style, apply openpyxl's default\n",
      "  warn(\"Workbook contains no default style, apply openpyxl's default\")\n"
     ]
    },
    {
     "name": "stdout",
     "output_type": "stream",
     "text": [
      "변환 완료: 국민관심질병_요양기관소재지별현황_202106_202406 (24).xlsx -> C:\\Users\\ys000\\capstone\\data\\질병_csv\\국민관심질병_요양기관소재지별현황_202106_202406 (24).csv\n",
      "변환 완료: 국민관심질병_요양기관소재지별현황_202106_202406 (25).xlsx -> C:\\Users\\ys000\\capstone\\data\\질병_csv\\국민관심질병_요양기관소재지별현황_202106_202406 (25).csv\n",
      "변환 완료: 국민관심질병_요양기관소재지별현황_202106_202406 (3).xlsx -> C:\\Users\\ys000\\capstone\\data\\질병_csv\\국민관심질병_요양기관소재지별현황_202106_202406 (3).csv\n",
      "변환 완료: 국민관심질병_요양기관소재지별현황_202106_202406 (4).xlsx -> C:\\Users\\ys000\\capstone\\data\\질병_csv\\국민관심질병_요양기관소재지별현황_202106_202406 (4).csv\n",
      "변환 완료: 국민관심질병_요양기관소재지별현황_202106_202406 (5).xlsx -> C:\\Users\\ys000\\capstone\\data\\질병_csv\\국민관심질병_요양기관소재지별현황_202106_202406 (5).csv\n"
     ]
    },
    {
     "name": "stderr",
     "output_type": "stream",
     "text": [
      "C:\\Users\\ys000\\anaconda3\\Lib\\site-packages\\openpyxl\\styles\\stylesheet.py:237: UserWarning: Workbook contains no default style, apply openpyxl's default\n",
      "  warn(\"Workbook contains no default style, apply openpyxl's default\")\n",
      "C:\\Users\\ys000\\anaconda3\\Lib\\site-packages\\openpyxl\\styles\\stylesheet.py:237: UserWarning: Workbook contains no default style, apply openpyxl's default\n",
      "  warn(\"Workbook contains no default style, apply openpyxl's default\")\n",
      "C:\\Users\\ys000\\anaconda3\\Lib\\site-packages\\openpyxl\\styles\\stylesheet.py:237: UserWarning: Workbook contains no default style, apply openpyxl's default\n",
      "  warn(\"Workbook contains no default style, apply openpyxl's default\")\n",
      "C:\\Users\\ys000\\anaconda3\\Lib\\site-packages\\openpyxl\\styles\\stylesheet.py:237: UserWarning: Workbook contains no default style, apply openpyxl's default\n",
      "  warn(\"Workbook contains no default style, apply openpyxl's default\")\n"
     ]
    },
    {
     "name": "stdout",
     "output_type": "stream",
     "text": [
      "변환 완료: 국민관심질병_요양기관소재지별현황_202106_202406 (6).xlsx -> C:\\Users\\ys000\\capstone\\data\\질병_csv\\국민관심질병_요양기관소재지별현황_202106_202406 (6).csv\n",
      "변환 완료: 국민관심질병_요양기관소재지별현황_202106_202406 (7).xlsx -> C:\\Users\\ys000\\capstone\\data\\질병_csv\\국민관심질병_요양기관소재지별현황_202106_202406 (7).csv\n",
      "변환 완료: 국민관심질병_요양기관소재지별현황_202106_202406 (8).xlsx -> C:\\Users\\ys000\\capstone\\data\\질병_csv\\국민관심질병_요양기관소재지별현황_202106_202406 (8).csv\n"
     ]
    },
    {
     "name": "stderr",
     "output_type": "stream",
     "text": [
      "C:\\Users\\ys000\\anaconda3\\Lib\\site-packages\\openpyxl\\styles\\stylesheet.py:237: UserWarning: Workbook contains no default style, apply openpyxl's default\n",
      "  warn(\"Workbook contains no default style, apply openpyxl's default\")\n",
      "C:\\Users\\ys000\\anaconda3\\Lib\\site-packages\\openpyxl\\styles\\stylesheet.py:237: UserWarning: Workbook contains no default style, apply openpyxl's default\n",
      "  warn(\"Workbook contains no default style, apply openpyxl's default\")\n",
      "C:\\Users\\ys000\\anaconda3\\Lib\\site-packages\\openpyxl\\styles\\stylesheet.py:237: UserWarning: Workbook contains no default style, apply openpyxl's default\n",
      "  warn(\"Workbook contains no default style, apply openpyxl's default\")\n"
     ]
    },
    {
     "name": "stdout",
     "output_type": "stream",
     "text": [
      "변환 완료: 국민관심질병_요양기관소재지별현황_202106_202406 (9).xlsx -> C:\\Users\\ys000\\capstone\\data\\질병_csv\\국민관심질병_요양기관소재지별현황_202106_202406 (9).csv\n",
      "변환 완료: 국민관심질병_요양기관소재지별현황_202106_202406.xlsx -> C:\\Users\\ys000\\capstone\\data\\질병_csv\\국민관심질병_요양기관소재지별현황_202106_202406.csv\n",
      "변환 완료: 궤양성 대장염_2021-06_2024-06.xlsx -> C:\\Users\\ys000\\capstone\\data\\질병_csv\\궤양성 대장염_2021-06_2024-06.csv\n"
     ]
    },
    {
     "name": "stderr",
     "output_type": "stream",
     "text": [
      "C:\\Users\\ys000\\anaconda3\\Lib\\site-packages\\openpyxl\\styles\\stylesheet.py:237: UserWarning: Workbook contains no default style, apply openpyxl's default\n",
      "  warn(\"Workbook contains no default style, apply openpyxl's default\")\n",
      "C:\\Users\\ys000\\anaconda3\\Lib\\site-packages\\openpyxl\\styles\\stylesheet.py:237: UserWarning: Workbook contains no default style, apply openpyxl's default\n",
      "  warn(\"Workbook contains no default style, apply openpyxl's default\")\n"
     ]
    },
    {
     "name": "stdout",
     "output_type": "stream",
     "text": [
      "변환 완료: 근막통증증후군_2021-06_2024-06.xlsx -> C:\\Users\\ys000\\capstone\\data\\질병_csv\\근막통증증후군_2021-06_2024-06.csv\n",
      "변환 완료: 근시_2021-06_2024-06.xlsx -> C:\\Users\\ys000\\capstone\\data\\질병_csv\\근시_2021-06_2024-06.csv\n"
     ]
    },
    {
     "name": "stderr",
     "output_type": "stream",
     "text": [
      "C:\\Users\\ys000\\anaconda3\\Lib\\site-packages\\openpyxl\\styles\\stylesheet.py:237: UserWarning: Workbook contains no default style, apply openpyxl's default\n",
      "  warn(\"Workbook contains no default style, apply openpyxl's default\")\n",
      "C:\\Users\\ys000\\anaconda3\\Lib\\site-packages\\openpyxl\\styles\\stylesheet.py:237: UserWarning: Workbook contains no default style, apply openpyxl's default\n",
      "  warn(\"Workbook contains no default style, apply openpyxl's default\")\n"
     ]
    },
    {
     "name": "stdout",
     "output_type": "stream",
     "text": [
      "변환 완료: 급성 백혈병_2021-06_2024-06.xlsx -> C:\\Users\\ys000\\capstone\\data\\질병_csv\\급성 백혈병_2021-06_2024-06.csv\n",
      "변환 완료: 기면증_2021-06_2024-06.xlsx -> C:\\Users\\ys000\\capstone\\data\\질병_csv\\기면증_2021-06_2024-06.csv\n"
     ]
    },
    {
     "name": "stderr",
     "output_type": "stream",
     "text": [
      "C:\\Users\\ys000\\anaconda3\\Lib\\site-packages\\openpyxl\\styles\\stylesheet.py:237: UserWarning: Workbook contains no default style, apply openpyxl's default\n",
      "  warn(\"Workbook contains no default style, apply openpyxl's default\")\n",
      "C:\\Users\\ys000\\anaconda3\\Lib\\site-packages\\openpyxl\\styles\\stylesheet.py:237: UserWarning: Workbook contains no default style, apply openpyxl's default\n",
      "  warn(\"Workbook contains no default style, apply openpyxl's default\")\n"
     ]
    },
    {
     "name": "stdout",
     "output_type": "stream",
     "text": [
      "변환 완료: 기흉_2021-06_2024-06.xlsx -> C:\\Users\\ys000\\capstone\\data\\질병_csv\\기흉_2021-06_2024-06.csv\n",
      "변환 완료: 난소암_2021-06_2024-06.xlsx -> C:\\Users\\ys000\\capstone\\data\\질병_csv\\난소암_2021-06_2024-06.csv\n",
      "변환 완료: 난청_2021-06_2024-06.xlsx -> C:\\Users\\ys000\\capstone\\data\\질병_csv\\난청_2021-06_2024-06.csv\n"
     ]
    },
    {
     "name": "stderr",
     "output_type": "stream",
     "text": [
      "C:\\Users\\ys000\\anaconda3\\Lib\\site-packages\\openpyxl\\styles\\stylesheet.py:237: UserWarning: Workbook contains no default style, apply openpyxl's default\n",
      "  warn(\"Workbook contains no default style, apply openpyxl's default\")\n",
      "C:\\Users\\ys000\\anaconda3\\Lib\\site-packages\\openpyxl\\styles\\stylesheet.py:237: UserWarning: Workbook contains no default style, apply openpyxl's default\n",
      "  warn(\"Workbook contains no default style, apply openpyxl's default\")\n",
      "C:\\Users\\ys000\\anaconda3\\Lib\\site-packages\\openpyxl\\styles\\stylesheet.py:237: UserWarning: Workbook contains no default style, apply openpyxl's default\n",
      "  warn(\"Workbook contains no default style, apply openpyxl's default\")\n"
     ]
    },
    {
     "name": "stdout",
     "output_type": "stream",
     "text": [
      "변환 완료: 녹내장_2021-06_2024-06.xlsx -> C:\\Users\\ys000\\capstone\\data\\질병_csv\\녹내장_2021-06_2024-06.csv\n",
      "변환 완료: 뇌전증_2021-06_2024-06.xlsx -> C:\\Users\\ys000\\capstone\\data\\질병_csv\\뇌전증_2021-06_2024-06.csv\n"
     ]
    },
    {
     "name": "stderr",
     "output_type": "stream",
     "text": [
      "C:\\Users\\ys000\\anaconda3\\Lib\\site-packages\\openpyxl\\styles\\stylesheet.py:237: UserWarning: Workbook contains no default style, apply openpyxl's default\n",
      "  warn(\"Workbook contains no default style, apply openpyxl's default\")\n",
      "C:\\Users\\ys000\\anaconda3\\Lib\\site-packages\\openpyxl\\styles\\stylesheet.py:237: UserWarning: Workbook contains no default style, apply openpyxl's default\n",
      "  warn(\"Workbook contains no default style, apply openpyxl's default\")\n"
     ]
    },
    {
     "name": "stdout",
     "output_type": "stream",
     "text": [
      "변환 완료: 뇌졸중_뇌경색(허혈성 뇌졸중)_2021-06_2024-06.xlsx -> C:\\Users\\ys000\\capstone\\data\\질병_csv\\뇌졸중_뇌경색(허혈성 뇌졸중)_2021-06_2024-06.csv\n",
      "변환 완료: 뇌졸중_뇌출혈(출혈성 뇌졸중)_2021-06_2024-06.xlsx -> C:\\Users\\ys000\\capstone\\data\\질병_csv\\뇌졸중_뇌출혈(출혈성 뇌졸중)_2021-06_2024-06.csv\n",
      "변환 완료: 뇌졸중_뇌출혈, 뇌경색_2021-06_2024-06.xlsx -> C:\\Users\\ys000\\capstone\\data\\질병_csv\\뇌졸중_뇌출혈, 뇌경색_2021-06_2024-06.csv\n"
     ]
    },
    {
     "name": "stderr",
     "output_type": "stream",
     "text": [
      "C:\\Users\\ys000\\anaconda3\\Lib\\site-packages\\openpyxl\\styles\\stylesheet.py:237: UserWarning: Workbook contains no default style, apply openpyxl's default\n",
      "  warn(\"Workbook contains no default style, apply openpyxl's default\")\n",
      "C:\\Users\\ys000\\anaconda3\\Lib\\site-packages\\openpyxl\\styles\\stylesheet.py:237: UserWarning: Workbook contains no default style, apply openpyxl's default\n",
      "  warn(\"Workbook contains no default style, apply openpyxl's default\")\n",
      "C:\\Users\\ys000\\anaconda3\\Lib\\site-packages\\openpyxl\\styles\\stylesheet.py:237: UserWarning: Workbook contains no default style, apply openpyxl's default\n",
      "  warn(\"Workbook contains no default style, apply openpyxl's default\")\n",
      "C:\\Users\\ys000\\anaconda3\\Lib\\site-packages\\openpyxl\\styles\\stylesheet.py:237: UserWarning: Workbook contains no default style, apply openpyxl's default\n",
      "  warn(\"Workbook contains no default style, apply openpyxl's default\")\n"
     ]
    },
    {
     "name": "stdout",
     "output_type": "stream",
     "text": [
      "변환 완료: 뇌종양_악성_2021-06_2024-06.xlsx -> C:\\Users\\ys000\\capstone\\data\\질병_csv\\뇌종양_악성_2021-06_2024-06.csv\n",
      "변환 완료: 뇌종양_양성_2021-06_2024-06.xlsx -> C:\\Users\\ys000\\capstone\\data\\질병_csv\\뇌종양_양성_2021-06_2024-06.csv\n"
     ]
    },
    {
     "name": "stderr",
     "output_type": "stream",
     "text": [
      "C:\\Users\\ys000\\anaconda3\\Lib\\site-packages\\openpyxl\\styles\\stylesheet.py:237: UserWarning: Workbook contains no default style, apply openpyxl's default\n",
      "  warn(\"Workbook contains no default style, apply openpyxl's default\")\n",
      "C:\\Users\\ys000\\anaconda3\\Lib\\site-packages\\openpyxl\\styles\\stylesheet.py:237: UserWarning: Workbook contains no default style, apply openpyxl's default\n",
      "  warn(\"Workbook contains no default style, apply openpyxl's default\")\n"
     ]
    },
    {
     "name": "stdout",
     "output_type": "stream",
     "text": [
      "변환 완료: 뇌혈관질환_2021-06_2024-06.xlsx -> C:\\Users\\ys000\\capstone\\data\\질병_csv\\뇌혈관질환_2021-06_2024-06.csv\n",
      "변환 완료: 니코틴 중독(흡연)_2021-06_2024-06.xlsx -> C:\\Users\\ys000\\capstone\\data\\질병_csv\\니코틴 중독(흡연)_2021-06_2024-06.csv\n"
     ]
    },
    {
     "name": "stderr",
     "output_type": "stream",
     "text": [
      "C:\\Users\\ys000\\anaconda3\\Lib\\site-packages\\openpyxl\\styles\\stylesheet.py:237: UserWarning: Workbook contains no default style, apply openpyxl's default\n",
      "  warn(\"Workbook contains no default style, apply openpyxl's default\")\n",
      "C:\\Users\\ys000\\anaconda3\\Lib\\site-packages\\openpyxl\\styles\\stylesheet.py:237: UserWarning: Workbook contains no default style, apply openpyxl's default\n",
      "  warn(\"Workbook contains no default style, apply openpyxl's default\")\n",
      "C:\\Users\\ys000\\anaconda3\\Lib\\site-packages\\openpyxl\\styles\\stylesheet.py:237: UserWarning: Workbook contains no default style, apply openpyxl's default\n",
      "  warn(\"Workbook contains no default style, apply openpyxl's default\")\n"
     ]
    },
    {
     "name": "stdout",
     "output_type": "stream",
     "text": [
      "변환 완료: 담낭담석_2021-06_2024-06.xlsx -> C:\\Users\\ys000\\capstone\\data\\질병_csv\\담낭담석_2021-06_2024-06.csv\n",
      "변환 완료: 담도담석_2021-06_2024-06.xlsx -> C:\\Users\\ys000\\capstone\\data\\질병_csv\\담도담석_2021-06_2024-06.csv\n",
      "변환 완료: 당뇨병_2021-06_2024-06.xlsx -> C:\\Users\\ys000\\capstone\\data\\질병_csv\\당뇨병_2021-06_2024-06.csv\n",
      "변환 완료: 당뇨병성족부궤양_2021-06_2024-06.xlsx -> C:\\Users\\ys000\\capstone\\data\\질병_csv\\당뇨병성족부궤양_2021-06_2024-06.csv\n"
     ]
    },
    {
     "name": "stderr",
     "output_type": "stream",
     "text": [
      "C:\\Users\\ys000\\anaconda3\\Lib\\site-packages\\openpyxl\\styles\\stylesheet.py:237: UserWarning: Workbook contains no default style, apply openpyxl's default\n",
      "  warn(\"Workbook contains no default style, apply openpyxl's default\")\n",
      "C:\\Users\\ys000\\anaconda3\\Lib\\site-packages\\openpyxl\\styles\\stylesheet.py:237: UserWarning: Workbook contains no default style, apply openpyxl's default\n",
      "  warn(\"Workbook contains no default style, apply openpyxl's default\")\n"
     ]
    },
    {
     "name": "stdout",
     "output_type": "stream",
     "text": [
      "변환 완료: 대사증후군_2021-06_2024-06.xlsx -> C:\\Users\\ys000\\capstone\\data\\질병_csv\\대사증후군_2021-06_2024-06.csv\n",
      "변환 완료: 대상포진_2021-06_2024-06.xlsx -> C:\\Users\\ys000\\capstone\\data\\질병_csv\\대상포진_2021-06_2024-06.csv\n",
      "변환 완료: 대장암_2021-06_2024-06.xlsx -> C:\\Users\\ys000\\capstone\\data\\질병_csv\\대장암_2021-06_2024-06.csv\n"
     ]
    },
    {
     "name": "stderr",
     "output_type": "stream",
     "text": [
      "C:\\Users\\ys000\\anaconda3\\Lib\\site-packages\\openpyxl\\styles\\stylesheet.py:237: UserWarning: Workbook contains no default style, apply openpyxl's default\n",
      "  warn(\"Workbook contains no default style, apply openpyxl's default\")\n",
      "C:\\Users\\ys000\\anaconda3\\Lib\\site-packages\\openpyxl\\styles\\stylesheet.py:237: UserWarning: Workbook contains no default style, apply openpyxl's default\n",
      "  warn(\"Workbook contains no default style, apply openpyxl's default\")\n",
      "C:\\Users\\ys000\\anaconda3\\Lib\\site-packages\\openpyxl\\styles\\stylesheet.py:237: UserWarning: Workbook contains no default style, apply openpyxl's default\n",
      "  warn(\"Workbook contains no default style, apply openpyxl's default\")\n"
     ]
    },
    {
     "name": "stdout",
     "output_type": "stream",
     "text": [
      "변환 완료: 대퇴경부골절_2021-06_2024-06.xlsx -> C:\\Users\\ys000\\capstone\\data\\질병_csv\\대퇴경부골절_2021-06_2024-06.csv\n",
      "변환 완료: 도박중독_2021-06_2024-06.xlsx -> C:\\Users\\ys000\\capstone\\data\\질병_csv\\도박중독_2021-06_2024-06.csv\n",
      "변환 완료: 동상_2021-06_2024-06.xlsx -> C:\\Users\\ys000\\capstone\\data\\질병_csv\\동상_2021-06_2024-06.csv\n"
     ]
    },
    {
     "name": "stderr",
     "output_type": "stream",
     "text": [
      "C:\\Users\\ys000\\anaconda3\\Lib\\site-packages\\openpyxl\\styles\\stylesheet.py:237: UserWarning: Workbook contains no default style, apply openpyxl's default\n",
      "  warn(\"Workbook contains no default style, apply openpyxl's default\")\n",
      "C:\\Users\\ys000\\anaconda3\\Lib\\site-packages\\openpyxl\\styles\\stylesheet.py:237: UserWarning: Workbook contains no default style, apply openpyxl's default\n",
      "  warn(\"Workbook contains no default style, apply openpyxl's default\")\n",
      "C:\\Users\\ys000\\anaconda3\\Lib\\site-packages\\openpyxl\\styles\\stylesheet.py:237: UserWarning: Workbook contains no default style, apply openpyxl's default\n",
      "  warn(\"Workbook contains no default style, apply openpyxl's default\")\n"
     ]
    },
    {
     "name": "stdout",
     "output_type": "stream",
     "text": [
      "변환 완료: 루푸스_2021-06_2024-06.xlsx -> C:\\Users\\ys000\\capstone\\data\\질병_csv\\루푸스_2021-06_2024-06.csv\n",
      "변환 완료: 류마티스관절염_2021-06_2024-06.xlsx -> C:\\Users\\ys000\\capstone\\data\\질병_csv\\류마티스관절염_2021-06_2024-06.csv\n",
      "변환 완료: 만성 백혈병_2021-06_2024-06.xlsx -> C:\\Users\\ys000\\capstone\\data\\질병_csv\\만성 백혈병_2021-06_2024-06.csv\n"
     ]
    },
    {
     "name": "stderr",
     "output_type": "stream",
     "text": [
      "C:\\Users\\ys000\\anaconda3\\Lib\\site-packages\\openpyxl\\styles\\stylesheet.py:237: UserWarning: Workbook contains no default style, apply openpyxl's default\n",
      "  warn(\"Workbook contains no default style, apply openpyxl's default\")\n",
      "C:\\Users\\ys000\\anaconda3\\Lib\\site-packages\\openpyxl\\styles\\stylesheet.py:237: UserWarning: Workbook contains no default style, apply openpyxl's default\n",
      "  warn(\"Workbook contains no default style, apply openpyxl's default\")\n",
      "C:\\Users\\ys000\\anaconda3\\Lib\\site-packages\\openpyxl\\styles\\stylesheet.py:237: UserWarning: Workbook contains no default style, apply openpyxl's default\n",
      "  warn(\"Workbook contains no default style, apply openpyxl's default\")\n"
     ]
    },
    {
     "name": "stdout",
     "output_type": "stream",
     "text": [
      "변환 완료: 만성질환_2021-06_2024-06.xlsx -> C:\\Users\\ys000\\capstone\\data\\질병_csv\\만성질환_2021-06_2024-06.csv\n",
      "변환 완료: 만성폐쇄성폐질환(COPD)_2021-06_2024-06.xlsx -> C:\\Users\\ys000\\capstone\\data\\질병_csv\\만성폐쇄성폐질환(COPD)_2021-06_2024-06.csv\n",
      "변환 완료: 망막(맥락막·유리체) 질환_2021-06_2024-06.xlsx -> C:\\Users\\ys000\\capstone\\data\\질병_csv\\망막(맥락막·유리체) 질환_2021-06_2024-06.csv\n"
     ]
    },
    {
     "name": "stderr",
     "output_type": "stream",
     "text": [
      "C:\\Users\\ys000\\anaconda3\\Lib\\site-packages\\openpyxl\\styles\\stylesheet.py:237: UserWarning: Workbook contains no default style, apply openpyxl's default\n",
      "  warn(\"Workbook contains no default style, apply openpyxl's default\")\n",
      "C:\\Users\\ys000\\anaconda3\\Lib\\site-packages\\openpyxl\\styles\\stylesheet.py:237: UserWarning: Workbook contains no default style, apply openpyxl's default\n",
      "  warn(\"Workbook contains no default style, apply openpyxl's default\")\n",
      "C:\\Users\\ys000\\anaconda3\\Lib\\site-packages\\openpyxl\\styles\\stylesheet.py:237: UserWarning: Workbook contains no default style, apply openpyxl's default\n",
      "  warn(\"Workbook contains no default style, apply openpyxl's default\")\n"
     ]
    },
    {
     "name": "stdout",
     "output_type": "stream",
     "text": [
      "변환 완료: 맹장염(충수염)_2021-06_2024-06.xlsx -> C:\\Users\\ys000\\capstone\\data\\질병_csv\\맹장염(충수염)_2021-06_2024-06.csv\n",
      "변환 완료: 머릿니 감염증_2021-06_2024-06.xlsx -> C:\\Users\\ys000\\capstone\\data\\질병_csv\\머릿니 감염증_2021-06_2024-06.csv\n",
      "변환 완료: 미숙아_2021-06_2024-06.xlsx -> C:\\Users\\ys000\\capstone\\data\\질병_csv\\미숙아_2021-06_2024-06.csv\n"
     ]
    },
    {
     "name": "stderr",
     "output_type": "stream",
     "text": [
      "C:\\Users\\ys000\\anaconda3\\Lib\\site-packages\\openpyxl\\styles\\stylesheet.py:237: UserWarning: Workbook contains no default style, apply openpyxl's default\n",
      "  warn(\"Workbook contains no default style, apply openpyxl's default\")\n",
      "C:\\Users\\ys000\\anaconda3\\Lib\\site-packages\\openpyxl\\styles\\stylesheet.py:237: UserWarning: Workbook contains no default style, apply openpyxl's default\n",
      "  warn(\"Workbook contains no default style, apply openpyxl's default\")\n",
      "C:\\Users\\ys000\\anaconda3\\Lib\\site-packages\\openpyxl\\styles\\stylesheet.py:237: UserWarning: Workbook contains no default style, apply openpyxl's default\n",
      "  warn(\"Workbook contains no default style, apply openpyxl's default\")\n"
     ]
    },
    {
     "name": "stdout",
     "output_type": "stream",
     "text": [
      "변환 완료: 미주신경성 실신_2021-06_2024-06.xlsx -> C:\\Users\\ys000\\capstone\\data\\질병_csv\\미주신경성 실신_2021-06_2024-06.csv\n",
      "변환 완료: 반월상 연골판 손상_2021-06_2024-06.xlsx -> C:\\Users\\ys000\\capstone\\data\\질병_csv\\반월상 연골판 손상_2021-06_2024-06.csv\n",
      "변환 완료: 발목염좌긴장_2021-06_2024-06.xlsx -> C:\\Users\\ys000\\capstone\\data\\질병_csv\\발목염좌긴장_2021-06_2024-06.csv\n"
     ]
    },
    {
     "name": "stderr",
     "output_type": "stream",
     "text": [
      "C:\\Users\\ys000\\anaconda3\\Lib\\site-packages\\openpyxl\\styles\\stylesheet.py:237: UserWarning: Workbook contains no default style, apply openpyxl's default\n",
      "  warn(\"Workbook contains no default style, apply openpyxl's default\")\n",
      "C:\\Users\\ys000\\anaconda3\\Lib\\site-packages\\openpyxl\\styles\\stylesheet.py:237: UserWarning: Workbook contains no default style, apply openpyxl's default\n",
      "  warn(\"Workbook contains no default style, apply openpyxl's default\")\n",
      "C:\\Users\\ys000\\anaconda3\\Lib\\site-packages\\openpyxl\\styles\\stylesheet.py:237: UserWarning: Workbook contains no default style, apply openpyxl's default\n",
      "  warn(\"Workbook contains no default style, apply openpyxl's default\")\n",
      "C:\\Users\\ys000\\anaconda3\\Lib\\site-packages\\openpyxl\\styles\\stylesheet.py:237: UserWarning: Workbook contains no default style, apply openpyxl's default\n",
      "  warn(\"Workbook contains no default style, apply openpyxl's default\")\n"
     ]
    },
    {
     "name": "stdout",
     "output_type": "stream",
     "text": [
      "변환 완료: 방광암_2021-06_2024-06.xlsx -> C:\\Users\\ys000\\capstone\\data\\질병_csv\\방광암_2021-06_2024-06.csv\n",
      "변환 완료: 방광염_2021-06_2024-06.xlsx -> C:\\Users\\ys000\\capstone\\data\\질병_csv\\방광염_2021-06_2024-06.csv\n",
      "변환 완료: 백내장_2021-06_2024-06.xlsx -> C:\\Users\\ys000\\capstone\\data\\질병_csv\\백내장_2021-06_2024-06.csv\n"
     ]
    },
    {
     "name": "stderr",
     "output_type": "stream",
     "text": [
      "C:\\Users\\ys000\\anaconda3\\Lib\\site-packages\\openpyxl\\styles\\stylesheet.py:237: UserWarning: Workbook contains no default style, apply openpyxl's default\n",
      "  warn(\"Workbook contains no default style, apply openpyxl's default\")\n",
      "C:\\Users\\ys000\\anaconda3\\Lib\\site-packages\\openpyxl\\styles\\stylesheet.py:237: UserWarning: Workbook contains no default style, apply openpyxl's default\n",
      "  warn(\"Workbook contains no default style, apply openpyxl's default\")\n",
      "C:\\Users\\ys000\\anaconda3\\Lib\\site-packages\\openpyxl\\styles\\stylesheet.py:237: UserWarning: Workbook contains no default style, apply openpyxl's default\n",
      "  warn(\"Workbook contains no default style, apply openpyxl's default\")\n"
     ]
    },
    {
     "name": "stdout",
     "output_type": "stream",
     "text": [
      "변환 완료: 백반증_2021-06_2024-06.xlsx -> C:\\Users\\ys000\\capstone\\data\\질병_csv\\백반증_2021-06_2024-06.csv\n",
      "변환 완료: 백혈병_2021-06_2024-06.xlsx -> C:\\Users\\ys000\\capstone\\data\\질병_csv\\백혈병_2021-06_2024-06.csv\n",
      "변환 완료: 뱀 물림_2021-06_2024-06.xlsx -> C:\\Users\\ys000\\capstone\\data\\질병_csv\\뱀 물림_2021-06_2024-06.csv\n"
     ]
    },
    {
     "name": "stderr",
     "output_type": "stream",
     "text": [
      "C:\\Users\\ys000\\anaconda3\\Lib\\site-packages\\openpyxl\\styles\\stylesheet.py:237: UserWarning: Workbook contains no default style, apply openpyxl's default\n",
      "  warn(\"Workbook contains no default style, apply openpyxl's default\")\n",
      "C:\\Users\\ys000\\anaconda3\\Lib\\site-packages\\openpyxl\\styles\\stylesheet.py:237: UserWarning: Workbook contains no default style, apply openpyxl's default\n",
      "  warn(\"Workbook contains no default style, apply openpyxl's default\")\n",
      "C:\\Users\\ys000\\anaconda3\\Lib\\site-packages\\openpyxl\\styles\\stylesheet.py:237: UserWarning: Workbook contains no default style, apply openpyxl's default\n",
      "  warn(\"Workbook contains no default style, apply openpyxl's default\")\n"
     ]
    },
    {
     "name": "stdout",
     "output_type": "stream",
     "text": [
      "변환 완료: 벌 쏘임_2021-06_2024-06.xlsx -> C:\\Users\\ys000\\capstone\\data\\질병_csv\\벌 쏘임_2021-06_2024-06.csv\n",
      "변환 완료: 복합부위통증증후군_2021-06_2024-06.xlsx -> C:\\Users\\ys000\\capstone\\data\\질병_csv\\복합부위통증증후군_2021-06_2024-06.csv\n",
      "변환 완료: 부정맥_2021-06_2024-06.xlsx -> C:\\Users\\ys000\\capstone\\data\\질병_csv\\부정맥_2021-06_2024-06.csv\n"
     ]
    },
    {
     "name": "stderr",
     "output_type": "stream",
     "text": [
      "C:\\Users\\ys000\\anaconda3\\Lib\\site-packages\\openpyxl\\styles\\stylesheet.py:237: UserWarning: Workbook contains no default style, apply openpyxl's default\n",
      "  warn(\"Workbook contains no default style, apply openpyxl's default\")\n",
      "C:\\Users\\ys000\\anaconda3\\Lib\\site-packages\\openpyxl\\styles\\stylesheet.py:237: UserWarning: Workbook contains no default style, apply openpyxl's default\n",
      "  warn(\"Workbook contains no default style, apply openpyxl's default\")\n",
      "C:\\Users\\ys000\\anaconda3\\Lib\\site-packages\\openpyxl\\styles\\stylesheet.py:237: UserWarning: Workbook contains no default style, apply openpyxl's default\n",
      "  warn(\"Workbook contains no default style, apply openpyxl's default\")\n"
     ]
    },
    {
     "name": "stdout",
     "output_type": "stream",
     "text": [
      "변환 완료: 분노조절장애_2021-06_2024-06.xlsx -> C:\\Users\\ys000\\capstone\\data\\질병_csv\\분노조절장애_2021-06_2024-06.csv\n",
      "변환 완료: 불면증_2021-06_2024-06.xlsx -> C:\\Users\\ys000\\capstone\\data\\질병_csv\\불면증_2021-06_2024-06.csv\n",
      "변환 완료: 불안장애_2021-06_2024-06.xlsx -> C:\\Users\\ys000\\capstone\\data\\질병_csv\\불안장애_2021-06_2024-06.csv\n"
     ]
    },
    {
     "name": "stderr",
     "output_type": "stream",
     "text": [
      "C:\\Users\\ys000\\anaconda3\\Lib\\site-packages\\openpyxl\\styles\\stylesheet.py:237: UserWarning: Workbook contains no default style, apply openpyxl's default\n",
      "  warn(\"Workbook contains no default style, apply openpyxl's default\")\n",
      "C:\\Users\\ys000\\anaconda3\\Lib\\site-packages\\openpyxl\\styles\\stylesheet.py:237: UserWarning: Workbook contains no default style, apply openpyxl's default\n",
      "  warn(\"Workbook contains no default style, apply openpyxl's default\")\n"
     ]
    },
    {
     "name": "stdout",
     "output_type": "stream",
     "text": [
      "변환 완료: 불임_2021-06_2024-06.xlsx -> C:\\Users\\ys000\\capstone\\data\\질병_csv\\불임_2021-06_2024-06.csv\n",
      "변환 완료: 비만_2021-06_2024-06.xlsx -> C:\\Users\\ys000\\capstone\\data\\질병_csv\\비만_2021-06_2024-06.csv\n",
      "변환 완료: 비알코올성 지방간_2021-06_2024-06.xlsx -> C:\\Users\\ys000\\capstone\\data\\질병_csv\\비알코올성 지방간_2021-06_2024-06.csv\n"
     ]
    },
    {
     "name": "stderr",
     "output_type": "stream",
     "text": [
      "C:\\Users\\ys000\\anaconda3\\Lib\\site-packages\\openpyxl\\styles\\stylesheet.py:237: UserWarning: Workbook contains no default style, apply openpyxl's default\n",
      "  warn(\"Workbook contains no default style, apply openpyxl's default\")\n",
      "C:\\Users\\ys000\\anaconda3\\Lib\\site-packages\\openpyxl\\styles\\stylesheet.py:237: UserWarning: Workbook contains no default style, apply openpyxl's default\n",
      "  warn(\"Workbook contains no default style, apply openpyxl's default\")\n",
      "C:\\Users\\ys000\\anaconda3\\Lib\\site-packages\\openpyxl\\styles\\stylesheet.py:237: UserWarning: Workbook contains no default style, apply openpyxl's default\n",
      "  warn(\"Workbook contains no default style, apply openpyxl's default\")\n"
     ]
    },
    {
     "name": "stdout",
     "output_type": "stream",
     "text": [
      "변환 완료: 비염_2021-06_2024-06.xlsx -> C:\\Users\\ys000\\capstone\\data\\질병_csv\\비염_2021-06_2024-06.csv\n",
      "변환 완료: 빈혈_2021-06_2024-06.xlsx -> C:\\Users\\ys000\\capstone\\data\\질병_csv\\빈혈_2021-06_2024-06.csv\n",
      "변환 완료: 사시_2021-06_2024-06.xlsx -> C:\\Users\\ys000\\capstone\\data\\질병_csv\\사시_2021-06_2024-06.csv\n"
     ]
    },
    {
     "name": "stderr",
     "output_type": "stream",
     "text": [
      "C:\\Users\\ys000\\anaconda3\\Lib\\site-packages\\openpyxl\\styles\\stylesheet.py:237: UserWarning: Workbook contains no default style, apply openpyxl's default\n",
      "  warn(\"Workbook contains no default style, apply openpyxl's default\")\n",
      "C:\\Users\\ys000\\anaconda3\\Lib\\site-packages\\openpyxl\\styles\\stylesheet.py:237: UserWarning: Workbook contains no default style, apply openpyxl's default\n",
      "  warn(\"Workbook contains no default style, apply openpyxl's default\")\n",
      "C:\\Users\\ys000\\anaconda3\\Lib\\site-packages\\openpyxl\\styles\\stylesheet.py:237: UserWarning: Workbook contains no default style, apply openpyxl's default\n",
      "  warn(\"Workbook contains no default style, apply openpyxl's default\")\n"
     ]
    },
    {
     "name": "stdout",
     "output_type": "stream",
     "text": [
      "변환 완료: 산후우울증_2021-06_2024-06.xlsx -> C:\\Users\\ys000\\capstone\\data\\질병_csv\\산후우울증_2021-06_2024-06.csv\n",
      "변환 완료: 선천성이상아_2021-06_2024-06.xlsx -> C:\\Users\\ys000\\capstone\\data\\질병_csv\\선천성이상아_2021-06_2024-06.csv\n",
      "변환 완료: 성매개감염병_2021-06_2024-06.xlsx -> C:\\Users\\ys000\\capstone\\data\\질병_csv\\성매개감염병_2021-06_2024-06.csv\n"
     ]
    },
    {
     "name": "stderr",
     "output_type": "stream",
     "text": [
      "C:\\Users\\ys000\\anaconda3\\Lib\\site-packages\\openpyxl\\styles\\stylesheet.py:237: UserWarning: Workbook contains no default style, apply openpyxl's default\n",
      "  warn(\"Workbook contains no default style, apply openpyxl's default\")\n",
      "C:\\Users\\ys000\\anaconda3\\Lib\\site-packages\\openpyxl\\styles\\stylesheet.py:237: UserWarning: Workbook contains no default style, apply openpyxl's default\n",
      "  warn(\"Workbook contains no default style, apply openpyxl's default\")\n",
      "C:\\Users\\ys000\\anaconda3\\Lib\\site-packages\\openpyxl\\styles\\stylesheet.py:237: UserWarning: Workbook contains no default style, apply openpyxl's default\n",
      "  warn(\"Workbook contains no default style, apply openpyxl's default\")\n"
     ]
    },
    {
     "name": "stdout",
     "output_type": "stream",
     "text": [
      "변환 완료: 성조숙증_2021-06_2024-06.xlsx -> C:\\Users\\ys000\\capstone\\data\\질병_csv\\성조숙증_2021-06_2024-06.csv\n",
      "변환 완료: 소화기암_2021-06_2024-06.xlsx -> C:\\Users\\ys000\\capstone\\data\\질병_csv\\소화기암_2021-06_2024-06.csv\n",
      "변환 완료: 손목터널증후군_2021-06_2024-06.xlsx -> C:\\Users\\ys000\\capstone\\data\\질병_csv\\손목터널증후군_2021-06_2024-06.csv\n"
     ]
    },
    {
     "name": "stderr",
     "output_type": "stream",
     "text": [
      "C:\\Users\\ys000\\anaconda3\\Lib\\site-packages\\openpyxl\\styles\\stylesheet.py:237: UserWarning: Workbook contains no default style, apply openpyxl's default\n",
      "  warn(\"Workbook contains no default style, apply openpyxl's default\")\n",
      "C:\\Users\\ys000\\anaconda3\\Lib\\site-packages\\openpyxl\\styles\\stylesheet.py:237: UserWarning: Workbook contains no default style, apply openpyxl's default\n",
      "  warn(\"Workbook contains no default style, apply openpyxl's default\")\n",
      "C:\\Users\\ys000\\anaconda3\\Lib\\site-packages\\openpyxl\\styles\\stylesheet.py:237: UserWarning: Workbook contains no default style, apply openpyxl's default\n",
      "  warn(\"Workbook contains no default style, apply openpyxl's default\")\n"
     ]
    },
    {
     "name": "stdout",
     "output_type": "stream",
     "text": [
      "변환 완료: 손상_2021-06_2024-06.xlsx -> C:\\Users\\ys000\\capstone\\data\\질병_csv\\손상_2021-06_2024-06.csv\n",
      "변환 완료: 수막뇌염_2021-06_2024-06.xlsx -> C:\\Users\\ys000\\capstone\\data\\질병_csv\\수막뇌염_2021-06_2024-06.csv\n",
      "변환 완료: 수면무호흡증_2021-06_2024-06.xlsx -> C:\\Users\\ys000\\capstone\\data\\질병_csv\\수면무호흡증_2021-06_2024-06.csv\n"
     ]
    },
    {
     "name": "stderr",
     "output_type": "stream",
     "text": [
      "C:\\Users\\ys000\\anaconda3\\Lib\\site-packages\\openpyxl\\styles\\stylesheet.py:237: UserWarning: Workbook contains no default style, apply openpyxl's default\n",
      "  warn(\"Workbook contains no default style, apply openpyxl's default\")\n",
      "C:\\Users\\ys000\\anaconda3\\Lib\\site-packages\\openpyxl\\styles\\stylesheet.py:237: UserWarning: Workbook contains no default style, apply openpyxl's default\n",
      "  warn(\"Workbook contains no default style, apply openpyxl's default\")\n",
      "C:\\Users\\ys000\\anaconda3\\Lib\\site-packages\\openpyxl\\styles\\stylesheet.py:237: UserWarning: Workbook contains no default style, apply openpyxl's default\n",
      "  warn(\"Workbook contains no default style, apply openpyxl's default\")\n"
     ]
    },
    {
     "name": "stdout",
     "output_type": "stream",
     "text": [
      "변환 완료: 수족구병_2021-06_2024-06.xlsx -> C:\\Users\\ys000\\capstone\\data\\질병_csv\\수족구병_2021-06_2024-06.csv\n",
      "변환 완료: 순환계통의 질환_2021-06_2024-06.xlsx -> C:\\Users\\ys000\\capstone\\data\\질병_csv\\순환계통의 질환_2021-06_2024-06.csv\n"
     ]
    },
    {
     "name": "stderr",
     "output_type": "stream",
     "text": [
      "C:\\Users\\ys000\\anaconda3\\Lib\\site-packages\\openpyxl\\styles\\stylesheet.py:237: UserWarning: Workbook contains no default style, apply openpyxl's default\n",
      "  warn(\"Workbook contains no default style, apply openpyxl's default\")\n",
      "C:\\Users\\ys000\\anaconda3\\Lib\\site-packages\\openpyxl\\styles\\stylesheet.py:237: UserWarning: Workbook contains no default style, apply openpyxl's default\n",
      "  warn(\"Workbook contains no default style, apply openpyxl's default\")\n"
     ]
    },
    {
     "name": "stdout",
     "output_type": "stream",
     "text": [
      "변환 완료: 시력저하_2021-06_2024-06.xlsx -> C:\\Users\\ys000\\capstone\\data\\질병_csv\\시력저하_2021-06_2024-06.csv\n",
      "변환 완료: 식도암_2021-06_2024-06.xlsx -> C:\\Users\\ys000\\capstone\\data\\질병_csv\\식도암_2021-06_2024-06.csv\n"
     ]
    },
    {
     "name": "stderr",
     "output_type": "stream",
     "text": [
      "C:\\Users\\ys000\\anaconda3\\Lib\\site-packages\\openpyxl\\styles\\stylesheet.py:237: UserWarning: Workbook contains no default style, apply openpyxl's default\n",
      "  warn(\"Workbook contains no default style, apply openpyxl's default\")\n",
      "C:\\Users\\ys000\\anaconda3\\Lib\\site-packages\\openpyxl\\styles\\stylesheet.py:237: UserWarning: Workbook contains no default style, apply openpyxl's default\n",
      "  warn(\"Workbook contains no default style, apply openpyxl's default\")\n"
     ]
    },
    {
     "name": "stdout",
     "output_type": "stream",
     "text": [
      "변환 완료: 식중독 관련 감염병 질환_2021-06_2024-06.xlsx -> C:\\Users\\ys000\\capstone\\data\\질병_csv\\식중독 관련 감염병 질환_2021-06_2024-06.csv\n",
      "변환 완료: 신경인성 방광_2021-06_2024-06.xlsx -> C:\\Users\\ys000\\capstone\\data\\질병_csv\\신경인성 방광_2021-06_2024-06.csv\n",
      "변환 완료: 신우신염_2021-06_2024-06.xlsx -> C:\\Users\\ys000\\capstone\\data\\질병_csv\\신우신염_2021-06_2024-06.csv\n"
     ]
    },
    {
     "name": "stderr",
     "output_type": "stream",
     "text": [
      "C:\\Users\\ys000\\anaconda3\\Lib\\site-packages\\openpyxl\\styles\\stylesheet.py:237: UserWarning: Workbook contains no default style, apply openpyxl's default\n",
      "  warn(\"Workbook contains no default style, apply openpyxl's default\")\n",
      "C:\\Users\\ys000\\anaconda3\\Lib\\site-packages\\openpyxl\\styles\\stylesheet.py:237: UserWarning: Workbook contains no default style, apply openpyxl's default\n",
      "  warn(\"Workbook contains no default style, apply openpyxl's default\")\n",
      "C:\\Users\\ys000\\anaconda3\\Lib\\site-packages\\openpyxl\\styles\\stylesheet.py:237: UserWarning: Workbook contains no default style, apply openpyxl's default\n",
      "  warn(\"Workbook contains no default style, apply openpyxl's default\")\n",
      "C:\\Users\\ys000\\anaconda3\\Lib\\site-packages\\openpyxl\\styles\\stylesheet.py:237: UserWarning: Workbook contains no default style, apply openpyxl's default\n",
      "  warn(\"Workbook contains no default style, apply openpyxl's default\")\n"
     ]
    },
    {
     "name": "stdout",
     "output_type": "stream",
     "text": [
      "변환 완료: 신장암_2021-06_2024-06.xlsx -> C:\\Users\\ys000\\capstone\\data\\질병_csv\\신장암_2021-06_2024-06.csv\n",
      "변환 완료: 실명_2021-06_2024-06.xlsx -> C:\\Users\\ys000\\capstone\\data\\질병_csv\\실명_2021-06_2024-06.csv\n",
      "변환 완료: 심근경색증_2021-06_2024-06.xlsx -> C:\\Users\\ys000\\capstone\\data\\질병_csv\\심근경색증_2021-06_2024-06.csv\n"
     ]
    },
    {
     "name": "stderr",
     "output_type": "stream",
     "text": [
      "C:\\Users\\ys000\\anaconda3\\Lib\\site-packages\\openpyxl\\styles\\stylesheet.py:237: UserWarning: Workbook contains no default style, apply openpyxl's default\n",
      "  warn(\"Workbook contains no default style, apply openpyxl's default\")\n",
      "C:\\Users\\ys000\\anaconda3\\Lib\\site-packages\\openpyxl\\styles\\stylesheet.py:237: UserWarning: Workbook contains no default style, apply openpyxl's default\n",
      "  warn(\"Workbook contains no default style, apply openpyxl's default\")\n",
      "C:\\Users\\ys000\\anaconda3\\Lib\\site-packages\\openpyxl\\styles\\stylesheet.py:237: UserWarning: Workbook contains no default style, apply openpyxl's default\n",
      "  warn(\"Workbook contains no default style, apply openpyxl's default\")\n"
     ]
    },
    {
     "name": "stdout",
     "output_type": "stream",
     "text": [
      "변환 완료: 심부전_2021-06_2024-06.xlsx -> C:\\Users\\ys000\\capstone\\data\\질병_csv\\심부전_2021-06_2024-06.csv\n",
      "변환 완료: 심장병_2021-06_2024-06.xlsx -> C:\\Users\\ys000\\capstone\\data\\질병_csv\\심장병_2021-06_2024-06.csv\n"
     ]
    },
    {
     "name": "stderr",
     "output_type": "stream",
     "text": [
      "C:\\Users\\ys000\\anaconda3\\Lib\\site-packages\\openpyxl\\styles\\stylesheet.py:237: UserWarning: Workbook contains no default style, apply openpyxl's default\n",
      "  warn(\"Workbook contains no default style, apply openpyxl's default\")\n",
      "C:\\Users\\ys000\\anaconda3\\Lib\\site-packages\\openpyxl\\styles\\stylesheet.py:237: UserWarning: Workbook contains no default style, apply openpyxl's default\n",
      "  warn(\"Workbook contains no default style, apply openpyxl's default\")\n"
     ]
    },
    {
     "name": "stdout",
     "output_type": "stream",
     "text": [
      "변환 완료: 심정지_2021-06_2024-06.xlsx -> C:\\Users\\ys000\\capstone\\data\\질병_csv\\심정지_2021-06_2024-06.csv\n",
      "변환 완료: 심혈관질환_2021-06_2024-06.xlsx -> C:\\Users\\ys000\\capstone\\data\\질병_csv\\심혈관질환_2021-06_2024-06.csv\n",
      "변환 완료: 아나필락시스(과민성 쇼크)_2021-06_2024-06.xlsx -> C:\\Users\\ys000\\capstone\\data\\질병_csv\\아나필락시스(과민성 쇼크)_2021-06_2024-06.csv\n"
     ]
    },
    {
     "name": "stderr",
     "output_type": "stream",
     "text": [
      "C:\\Users\\ys000\\anaconda3\\Lib\\site-packages\\openpyxl\\styles\\stylesheet.py:237: UserWarning: Workbook contains no default style, apply openpyxl's default\n",
      "  warn(\"Workbook contains no default style, apply openpyxl's default\")\n",
      "C:\\Users\\ys000\\anaconda3\\Lib\\site-packages\\openpyxl\\styles\\stylesheet.py:237: UserWarning: Workbook contains no default style, apply openpyxl's default\n",
      "  warn(\"Workbook contains no default style, apply openpyxl's default\")\n"
     ]
    },
    {
     "name": "stdout",
     "output_type": "stream",
     "text": [
      "변환 완료: 안구건조증_2021-06_2024-06.xlsx -> C:\\Users\\ys000\\capstone\\data\\질병_csv\\안구건조증_2021-06_2024-06.csv\n",
      "변환 완료: 안면마비_2021-06_2024-06.xlsx -> C:\\Users\\ys000\\capstone\\data\\질병_csv\\안면마비_2021-06_2024-06.csv\n"
     ]
    },
    {
     "name": "stderr",
     "output_type": "stream",
     "text": [
      "C:\\Users\\ys000\\anaconda3\\Lib\\site-packages\\openpyxl\\styles\\stylesheet.py:237: UserWarning: Workbook contains no default style, apply openpyxl's default\n",
      "  warn(\"Workbook contains no default style, apply openpyxl's default\")\n",
      "C:\\Users\\ys000\\anaconda3\\Lib\\site-packages\\openpyxl\\styles\\stylesheet.py:237: UserWarning: Workbook contains no default style, apply openpyxl's default\n",
      "  warn(\"Workbook contains no default style, apply openpyxl's default\")\n",
      "C:\\Users\\ys000\\anaconda3\\Lib\\site-packages\\openpyxl\\styles\\stylesheet.py:237: UserWarning: Workbook contains no default style, apply openpyxl's default\n",
      "  warn(\"Workbook contains no default style, apply openpyxl's default\")\n"
     ]
    },
    {
     "name": "stdout",
     "output_type": "stream",
     "text": [
      "변환 완료: 알레르기성결막염_2021-06_2024-06.xlsx -> C:\\Users\\ys000\\capstone\\data\\질병_csv\\알레르기성결막염_2021-06_2024-06.csv\n",
      "변환 완료: 알레르기질환_2021-06_2024-06.xlsx -> C:\\Users\\ys000\\capstone\\data\\질병_csv\\알레르기질환_2021-06_2024-06.csv\n",
      "변환 완료: 알코올성 간질환_2021-06_2024-06.xlsx -> C:\\Users\\ys000\\capstone\\data\\질병_csv\\알코올성 간질환_2021-06_2024-06.csv\n"
     ]
    },
    {
     "name": "stderr",
     "output_type": "stream",
     "text": [
      "C:\\Users\\ys000\\anaconda3\\Lib\\site-packages\\openpyxl\\styles\\stylesheet.py:237: UserWarning: Workbook contains no default style, apply openpyxl's default\n",
      "  warn(\"Workbook contains no default style, apply openpyxl's default\")\n",
      "C:\\Users\\ys000\\anaconda3\\Lib\\site-packages\\openpyxl\\styles\\stylesheet.py:237: UserWarning: Workbook contains no default style, apply openpyxl's default\n",
      "  warn(\"Workbook contains no default style, apply openpyxl's default\")\n"
     ]
    },
    {
     "name": "stdout",
     "output_type": "stream",
     "text": [
      "변환 완료: 알코올중독증_2021-06_2024-06.xlsx -> C:\\Users\\ys000\\capstone\\data\\질병_csv\\알코올중독증_2021-06_2024-06.csv\n",
      "변환 완료: 암질환_2021-06_2024-06.xlsx -> C:\\Users\\ys000\\capstone\\data\\질병_csv\\암질환_2021-06_2024-06.csv\n"
     ]
    },
    {
     "name": "stderr",
     "output_type": "stream",
     "text": [
      "C:\\Users\\ys000\\anaconda3\\Lib\\site-packages\\openpyxl\\styles\\stylesheet.py:237: UserWarning: Workbook contains no default style, apply openpyxl's default\n",
      "  warn(\"Workbook contains no default style, apply openpyxl's default\")\n",
      "C:\\Users\\ys000\\anaconda3\\Lib\\site-packages\\openpyxl\\styles\\stylesheet.py:237: UserWarning: Workbook contains no default style, apply openpyxl's default\n",
      "  warn(\"Workbook contains no default style, apply openpyxl's default\")\n"
     ]
    },
    {
     "name": "stdout",
     "output_type": "stream",
     "text": [
      "변환 완료: 암질환_미상의 신생물_2021-06_2024-06.xlsx -> C:\\Users\\ys000\\capstone\\data\\질병_csv\\암질환_미상의 신생물_2021-06_2024-06.csv\n",
      "변환 완료: 암질환_상피내암(제자리암)_2021-06_2024-06.xlsx -> C:\\Users\\ys000\\capstone\\data\\질병_csv\\암질환_상피내암(제자리암)_2021-06_2024-06.csv\n"
     ]
    },
    {
     "name": "stderr",
     "output_type": "stream",
     "text": [
      "C:\\Users\\ys000\\anaconda3\\Lib\\site-packages\\openpyxl\\styles\\stylesheet.py:237: UserWarning: Workbook contains no default style, apply openpyxl's default\n",
      "  warn(\"Workbook contains no default style, apply openpyxl's default\")\n",
      "C:\\Users\\ys000\\anaconda3\\Lib\\site-packages\\openpyxl\\styles\\stylesheet.py:237: UserWarning: Workbook contains no default style, apply openpyxl's default\n",
      "  warn(\"Workbook contains no default style, apply openpyxl's default\")\n"
     ]
    },
    {
     "name": "stdout",
     "output_type": "stream",
     "text": [
      "변환 완료: 암질환_악성신생물_2021-06_2024-06.xlsx -> C:\\Users\\ys000\\capstone\\data\\질병_csv\\암질환_악성신생물_2021-06_2024-06.csv\n",
      "변환 완료: 야뇨증_2021-06_2024-06.xlsx -> C:\\Users\\ys000\\capstone\\data\\질병_csv\\야뇨증_2021-06_2024-06.csv\n"
     ]
    },
    {
     "name": "stderr",
     "output_type": "stream",
     "text": [
      "C:\\Users\\ys000\\anaconda3\\Lib\\site-packages\\openpyxl\\styles\\stylesheet.py:237: UserWarning: Workbook contains no default style, apply openpyxl's default\n",
      "  warn(\"Workbook contains no default style, apply openpyxl's default\")\n",
      "C:\\Users\\ys000\\anaconda3\\Lib\\site-packages\\openpyxl\\styles\\stylesheet.py:237: UserWarning: Workbook contains no default style, apply openpyxl's default\n",
      "  warn(\"Workbook contains no default style, apply openpyxl's default\")\n"
     ]
    },
    {
     "name": "stdout",
     "output_type": "stream",
     "text": [
      "변환 완료: 염증성 다발관절병증_2021-06_2024-06.xlsx -> C:\\Users\\ys000\\capstone\\data\\질병_csv\\염증성 다발관절병증_2021-06_2024-06.csv\n",
      "변환 완료: 영양결핍_2021-06_2024-06.xlsx -> C:\\Users\\ys000\\capstone\\data\\질병_csv\\영양결핍_2021-06_2024-06.csv\n"
     ]
    },
    {
     "name": "stderr",
     "output_type": "stream",
     "text": [
      "C:\\Users\\ys000\\anaconda3\\Lib\\site-packages\\openpyxl\\styles\\stylesheet.py:237: UserWarning: Workbook contains no default style, apply openpyxl's default\n",
      "  warn(\"Workbook contains no default style, apply openpyxl's default\")\n",
      "C:\\Users\\ys000\\anaconda3\\Lib\\site-packages\\openpyxl\\styles\\stylesheet.py:237: UserWarning: Workbook contains no default style, apply openpyxl's default\n",
      "  warn(\"Workbook contains no default style, apply openpyxl's default\")\n"
     ]
    },
    {
     "name": "stdout",
     "output_type": "stream",
     "text": [
      "변환 완료: 영양실조_2021-06_2024-06.xlsx -> C:\\Users\\ys000\\capstone\\data\\질병_csv\\영양실조_2021-06_2024-06.csv\n",
      "변환 완료: 오십견_2021-06_2024-06.xlsx -> C:\\Users\\ys000\\capstone\\data\\질병_csv\\오십견_2021-06_2024-06.csv\n"
     ]
    },
    {
     "name": "stderr",
     "output_type": "stream",
     "text": [
      "C:\\Users\\ys000\\anaconda3\\Lib\\site-packages\\openpyxl\\styles\\stylesheet.py:237: UserWarning: Workbook contains no default style, apply openpyxl's default\n",
      "  warn(\"Workbook contains no default style, apply openpyxl's default\")\n",
      "C:\\Users\\ys000\\anaconda3\\Lib\\site-packages\\openpyxl\\styles\\stylesheet.py:237: UserWarning: Workbook contains no default style, apply openpyxl's default\n",
      "  warn(\"Workbook contains no default style, apply openpyxl's default\")\n",
      "C:\\Users\\ys000\\anaconda3\\Lib\\site-packages\\openpyxl\\styles\\stylesheet.py:237: UserWarning: Workbook contains no default style, apply openpyxl's default\n",
      "  warn(\"Workbook contains no default style, apply openpyxl's default\")\n"
     ]
    },
    {
     "name": "stdout",
     "output_type": "stream",
     "text": [
      "변환 완료: 온열질환_2021-06_2024-06.xlsx -> C:\\Users\\ys000\\capstone\\data\\질병_csv\\온열질환_2021-06_2024-06.csv\n",
      "변환 완료: 외상후 스트레스장애_2021-06_2024-06.xlsx -> C:\\Users\\ys000\\capstone\\data\\질병_csv\\외상후 스트레스장애_2021-06_2024-06.csv\n"
     ]
    },
    {
     "name": "stderr",
     "output_type": "stream",
     "text": [
      "C:\\Users\\ys000\\anaconda3\\Lib\\site-packages\\openpyxl\\styles\\stylesheet.py:237: UserWarning: Workbook contains no default style, apply openpyxl's default\n",
      "  warn(\"Workbook contains no default style, apply openpyxl's default\")\n",
      "C:\\Users\\ys000\\anaconda3\\Lib\\site-packages\\openpyxl\\styles\\stylesheet.py:237: UserWarning: Workbook contains no default style, apply openpyxl's default\n",
      "  warn(\"Workbook contains no default style, apply openpyxl's default\")\n"
     ]
    },
    {
     "name": "stdout",
     "output_type": "stream",
     "text": [
      "변환 완료: 요로결석증_2021-06_2024-06.xlsx -> C:\\Users\\ys000\\capstone\\data\\질병_csv\\요로결석증_2021-06_2024-06.csv\n",
      "변환 완료: 요실금_2021-06_2024-06.xlsx -> C:\\Users\\ys000\\capstone\\data\\질병_csv\\요실금_2021-06_2024-06.csv\n"
     ]
    },
    {
     "name": "stderr",
     "output_type": "stream",
     "text": [
      "C:\\Users\\ys000\\anaconda3\\Lib\\site-packages\\openpyxl\\styles\\stylesheet.py:237: UserWarning: Workbook contains no default style, apply openpyxl's default\n",
      "  warn(\"Workbook contains no default style, apply openpyxl's default\")\n",
      "C:\\Users\\ys000\\anaconda3\\Lib\\site-packages\\openpyxl\\styles\\stylesheet.py:237: UserWarning: Workbook contains no default style, apply openpyxl's default\n",
      "  warn(\"Workbook contains no default style, apply openpyxl's default\")\n"
     ]
    },
    {
     "name": "stdout",
     "output_type": "stream",
     "text": [
      "변환 완료: 욕창_2021-06_2024-06.xlsx -> C:\\Users\\ys000\\capstone\\data\\질병_csv\\욕창_2021-06_2024-06.csv\n",
      "변환 완료: 우울증_2021-06_2024-06.xlsx -> C:\\Users\\ys000\\capstone\\data\\질병_csv\\우울증_2021-06_2024-06.csv\n"
     ]
    },
    {
     "name": "stderr",
     "output_type": "stream",
     "text": [
      "C:\\Users\\ys000\\anaconda3\\Lib\\site-packages\\openpyxl\\styles\\stylesheet.py:237: UserWarning: Workbook contains no default style, apply openpyxl's default\n",
      "  warn(\"Workbook contains no default style, apply openpyxl's default\")\n",
      "C:\\Users\\ys000\\anaconda3\\Lib\\site-packages\\openpyxl\\styles\\stylesheet.py:237: UserWarning: Workbook contains no default style, apply openpyxl's default\n",
      "  warn(\"Workbook contains no default style, apply openpyxl's default\")\n"
     ]
    },
    {
     "name": "stdout",
     "output_type": "stream",
     "text": [
      "변환 완료: 위식도 역류질환_2021-06_2024-06.xlsx -> C:\\Users\\ys000\\capstone\\data\\질병_csv\\위식도 역류질환_2021-06_2024-06.csv\n",
      "변환 완료: 위암_2021-06_2024-06.xlsx -> C:\\Users\\ys000\\capstone\\data\\질병_csv\\위암_2021-06_2024-06.csv\n"
     ]
    },
    {
     "name": "stderr",
     "output_type": "stream",
     "text": [
      "C:\\Users\\ys000\\anaconda3\\Lib\\site-packages\\openpyxl\\styles\\stylesheet.py:237: UserWarning: Workbook contains no default style, apply openpyxl's default\n",
      "  warn(\"Workbook contains no default style, apply openpyxl's default\")\n",
      "C:\\Users\\ys000\\anaconda3\\Lib\\site-packages\\openpyxl\\styles\\stylesheet.py:237: UserWarning: Workbook contains no default style, apply openpyxl's default\n",
      "  warn(\"Workbook contains no default style, apply openpyxl's default\")\n"
     ]
    },
    {
     "name": "stdout",
     "output_type": "stream",
     "text": [
      "변환 완료: 유방암_2021-06_2024-06.xlsx -> C:\\Users\\ys000\\capstone\\data\\질병_csv\\유방암_2021-06_2024-06.csv\n",
      "변환 완료: 유산_2021-06_2024-06.xlsx -> C:\\Users\\ys000\\capstone\\data\\질병_csv\\유산_2021-06_2024-06.csv\n"
     ]
    },
    {
     "name": "stderr",
     "output_type": "stream",
     "text": [
      "C:\\Users\\ys000\\anaconda3\\Lib\\site-packages\\openpyxl\\styles\\stylesheet.py:237: UserWarning: Workbook contains no default style, apply openpyxl's default\n",
      "  warn(\"Workbook contains no default style, apply openpyxl's default\")\n",
      "C:\\Users\\ys000\\anaconda3\\Lib\\site-packages\\openpyxl\\styles\\stylesheet.py:237: UserWarning: Workbook contains no default style, apply openpyxl's default\n",
      "  warn(\"Workbook contains no default style, apply openpyxl's default\")\n"
     ]
    },
    {
     "name": "stdout",
     "output_type": "stream",
     "text": [
      "변환 완료: 육종_골육종, 연부조직육종_2021-06_2024-06.xlsx -> C:\\Users\\ys000\\capstone\\data\\질병_csv\\육종_골육종, 연부조직육종_2021-06_2024-06.csv\n",
      "변환 완료: 육종_골육종_2021-06_2024-06.xlsx -> C:\\Users\\ys000\\capstone\\data\\질병_csv\\육종_골육종_2021-06_2024-06.csv\n"
     ]
    },
    {
     "name": "stderr",
     "output_type": "stream",
     "text": [
      "C:\\Users\\ys000\\anaconda3\\Lib\\site-packages\\openpyxl\\styles\\stylesheet.py:237: UserWarning: Workbook contains no default style, apply openpyxl's default\n",
      "  warn(\"Workbook contains no default style, apply openpyxl's default\")\n",
      "C:\\Users\\ys000\\anaconda3\\Lib\\site-packages\\openpyxl\\styles\\stylesheet.py:237: UserWarning: Workbook contains no default style, apply openpyxl's default\n",
      "  warn(\"Workbook contains no default style, apply openpyxl's default\")\n"
     ]
    },
    {
     "name": "stdout",
     "output_type": "stream",
     "text": [
      "변환 완료: 육종_연부조직육종_2021-06_2024-06.xlsx -> C:\\Users\\ys000\\capstone\\data\\질병_csv\\육종_연부조직육종_2021-06_2024-06.csv\n",
      "변환 완료: 의약품중독_2021-06_2024-06.xlsx -> C:\\Users\\ys000\\capstone\\data\\질병_csv\\의약품중독_2021-06_2024-06.csv\n",
      "변환 완료: 이명_2021-06_2024-06.xlsx -> C:\\Users\\ys000\\capstone\\data\\질병_csv\\이명_2021-06_2024-06.csv\n"
     ]
    },
    {
     "name": "stderr",
     "output_type": "stream",
     "text": [
      "C:\\Users\\ys000\\anaconda3\\Lib\\site-packages\\openpyxl\\styles\\stylesheet.py:237: UserWarning: Workbook contains no default style, apply openpyxl's default\n",
      "  warn(\"Workbook contains no default style, apply openpyxl's default\")\n",
      "C:\\Users\\ys000\\anaconda3\\Lib\\site-packages\\openpyxl\\styles\\stylesheet.py:237: UserWarning: Workbook contains no default style, apply openpyxl's default\n",
      "  warn(\"Workbook contains no default style, apply openpyxl's default\")\n"
     ]
    },
    {
     "name": "stdout",
     "output_type": "stream",
     "text": [
      "변환 완료: 인격장애_2021-06_2024-06.xlsx -> C:\\Users\\ys000\\capstone\\data\\질병_csv\\인격장애_2021-06_2024-06.csv\n",
      "변환 완료: 인플루엔자_2021-06_2024-06.xlsx -> C:\\Users\\ys000\\capstone\\data\\질병_csv\\인플루엔자_2021-06_2024-06.csv\n"
     ]
    },
    {
     "name": "stderr",
     "output_type": "stream",
     "text": [
      "C:\\Users\\ys000\\anaconda3\\Lib\\site-packages\\openpyxl\\styles\\stylesheet.py:237: UserWarning: Workbook contains no default style, apply openpyxl's default\n",
      "  warn(\"Workbook contains no default style, apply openpyxl's default\")\n",
      "C:\\Users\\ys000\\anaconda3\\Lib\\site-packages\\openpyxl\\styles\\stylesheet.py:237: UserWarning: Workbook contains no default style, apply openpyxl's default\n",
      "  warn(\"Workbook contains no default style, apply openpyxl's default\")\n",
      "C:\\Users\\ys000\\anaconda3\\Lib\\site-packages\\openpyxl\\styles\\stylesheet.py:237: UserWarning: Workbook contains no default style, apply openpyxl's default\n",
      "  warn(\"Workbook contains no default style, apply openpyxl's default\")\n"
     ]
    },
    {
     "name": "stdout",
     "output_type": "stream",
     "text": [
      "변환 완료: 자궁경부암_2021-06_2024-06.xlsx -> C:\\Users\\ys000\\capstone\\data\\질병_csv\\자궁경부암_2021-06_2024-06.csv\n",
      "변환 완료: 자궁근종_2021-06_2024-06.xlsx -> C:\\Users\\ys000\\capstone\\data\\질병_csv\\자궁근종_2021-06_2024-06.csv\n",
      "변환 완료: 자궁내막암(자궁체부암)_2021-06_2024-06.xlsx -> C:\\Users\\ys000\\capstone\\data\\질병_csv\\자궁내막암(자궁체부암)_2021-06_2024-06.csv\n"
     ]
    },
    {
     "name": "stderr",
     "output_type": "stream",
     "text": [
      "C:\\Users\\ys000\\anaconda3\\Lib\\site-packages\\openpyxl\\styles\\stylesheet.py:237: UserWarning: Workbook contains no default style, apply openpyxl's default\n",
      "  warn(\"Workbook contains no default style, apply openpyxl's default\")\n",
      "C:\\Users\\ys000\\anaconda3\\Lib\\site-packages\\openpyxl\\styles\\stylesheet.py:237: UserWarning: Workbook contains no default style, apply openpyxl's default\n",
      "  warn(\"Workbook contains no default style, apply openpyxl's default\")\n",
      "C:\\Users\\ys000\\anaconda3\\Lib\\site-packages\\openpyxl\\styles\\stylesheet.py:237: UserWarning: Workbook contains no default style, apply openpyxl's default\n",
      "  warn(\"Workbook contains no default style, apply openpyxl's default\")\n"
     ]
    },
    {
     "name": "stdout",
     "output_type": "stream",
     "text": [
      "변환 완료: 자궁부속기종양_2021-06_2024-06.xlsx -> C:\\Users\\ys000\\capstone\\data\\질병_csv\\자궁부속기종양_2021-06_2024-06.csv\n",
      "변환 완료: 자궁암_자궁경부암, 자궁내막암_2021-06_2024-06.xlsx -> C:\\Users\\ys000\\capstone\\data\\질병_csv\\자궁암_자궁경부암, 자궁내막암_2021-06_2024-06.csv\n",
      "변환 완료: 자폐증_2021-06_2024-06.xlsx -> C:\\Users\\ys000\\capstone\\data\\질병_csv\\자폐증_2021-06_2024-06.csv\n"
     ]
    },
    {
     "name": "stderr",
     "output_type": "stream",
     "text": [
      "C:\\Users\\ys000\\anaconda3\\Lib\\site-packages\\openpyxl\\styles\\stylesheet.py:237: UserWarning: Workbook contains no default style, apply openpyxl's default\n",
      "  warn(\"Workbook contains no default style, apply openpyxl's default\")\n",
      "C:\\Users\\ys000\\anaconda3\\Lib\\site-packages\\openpyxl\\styles\\stylesheet.py:237: UserWarning: Workbook contains no default style, apply openpyxl's default\n",
      "  warn(\"Workbook contains no default style, apply openpyxl's default\")\n",
      "C:\\Users\\ys000\\anaconda3\\Lib\\site-packages\\openpyxl\\styles\\stylesheet.py:237: UserWarning: Workbook contains no default style, apply openpyxl's default\n",
      "  warn(\"Workbook contains no default style, apply openpyxl's default\")\n"
     ]
    },
    {
     "name": "stdout",
     "output_type": "stream",
     "text": [
      "변환 완료: 장염_2021-06_2024-06.xlsx -> C:\\Users\\ys000\\capstone\\data\\질병_csv\\장염_2021-06_2024-06.csv\n",
      "변환 완료: 전립선암_2021-06_2024-06.xlsx -> C:\\Users\\ys000\\capstone\\data\\질병_csv\\전립선암_2021-06_2024-06.csv\n",
      "변환 완료: 전립선증식증_2021-06_2024-06.xlsx -> C:\\Users\\ys000\\capstone\\data\\질병_csv\\전립선증식증_2021-06_2024-06.csv\n"
     ]
    },
    {
     "name": "stderr",
     "output_type": "stream",
     "text": [
      "C:\\Users\\ys000\\anaconda3\\Lib\\site-packages\\openpyxl\\styles\\stylesheet.py:237: UserWarning: Workbook contains no default style, apply openpyxl's default\n",
      "  warn(\"Workbook contains no default style, apply openpyxl's default\")\n",
      "C:\\Users\\ys000\\anaconda3\\Lib\\site-packages\\openpyxl\\styles\\stylesheet.py:237: UserWarning: Workbook contains no default style, apply openpyxl's default\n",
      "  warn(\"Workbook contains no default style, apply openpyxl's default\")\n"
     ]
    },
    {
     "name": "stdout",
     "output_type": "stream",
     "text": [
      "변환 완료: 접촉피부염_2021-06_2024-06.xlsx -> C:\\Users\\ys000\\capstone\\data\\질병_csv\\접촉피부염_2021-06_2024-06.csv\n",
      "변환 완료: 정신 및 행동장애_2021-06_2024-06.xlsx -> C:\\Users\\ys000\\capstone\\data\\질병_csv\\정신 및 행동장애_2021-06_2024-06.csv\n",
      "변환 완료: 조기위암_2021-06_2024-06.xlsx -> C:\\Users\\ys000\\capstone\\data\\질병_csv\\조기위암_2021-06_2024-06.csv\n"
     ]
    },
    {
     "name": "stderr",
     "output_type": "stream",
     "text": [
      "C:\\Users\\ys000\\anaconda3\\Lib\\site-packages\\openpyxl\\styles\\stylesheet.py:237: UserWarning: Workbook contains no default style, apply openpyxl's default\n",
      "  warn(\"Workbook contains no default style, apply openpyxl's default\")\n",
      "C:\\Users\\ys000\\anaconda3\\Lib\\site-packages\\openpyxl\\styles\\stylesheet.py:237: UserWarning: Workbook contains no default style, apply openpyxl's default\n",
      "  warn(\"Workbook contains no default style, apply openpyxl's default\")\n",
      "C:\\Users\\ys000\\anaconda3\\Lib\\site-packages\\openpyxl\\styles\\stylesheet.py:237: UserWarning: Workbook contains no default style, apply openpyxl's default\n",
      "  warn(\"Workbook contains no default style, apply openpyxl's default\")\n"
     ]
    },
    {
     "name": "stdout",
     "output_type": "stream",
     "text": [
      "변환 완료: 조산_2021-06_2024-06.xlsx -> C:\\Users\\ys000\\capstone\\data\\질병_csv\\조산_2021-06_2024-06.csv\n",
      "변환 완료: 조울증_2021-06_2024-06.xlsx -> C:\\Users\\ys000\\capstone\\data\\질병_csv\\조울증_2021-06_2024-06.csv\n",
      "변환 완료: 조현병_2021-06_2024-06.xlsx -> C:\\Users\\ys000\\capstone\\data\\질병_csv\\조현병_2021-06_2024-06.csv\n"
     ]
    },
    {
     "name": "stderr",
     "output_type": "stream",
     "text": [
      "C:\\Users\\ys000\\anaconda3\\Lib\\site-packages\\openpyxl\\styles\\stylesheet.py:237: UserWarning: Workbook contains no default style, apply openpyxl's default\n",
      "  warn(\"Workbook contains no default style, apply openpyxl's default\")\n",
      "C:\\Users\\ys000\\anaconda3\\Lib\\site-packages\\openpyxl\\styles\\stylesheet.py:237: UserWarning: Workbook contains no default style, apply openpyxl's default\n",
      "  warn(\"Workbook contains no default style, apply openpyxl's default\")\n",
      "C:\\Users\\ys000\\anaconda3\\Lib\\site-packages\\openpyxl\\styles\\stylesheet.py:237: UserWarning: Workbook contains no default style, apply openpyxl's default\n",
      "  warn(\"Workbook contains no default style, apply openpyxl's default\")\n"
     ]
    },
    {
     "name": "stdout",
     "output_type": "stream",
     "text": [
      "변환 완료: 중이염_2021-06_2024-06.xlsx -> C:\\Users\\ys000\\capstone\\data\\질병_csv\\중이염_2021-06_2024-06.csv\n",
      "변환 완료: 지방간_2021-06_2024-06.xlsx -> C:\\Users\\ys000\\capstone\\data\\질병_csv\\지방간_2021-06_2024-06.csv\n"
     ]
    },
    {
     "name": "stderr",
     "output_type": "stream",
     "text": [
      "C:\\Users\\ys000\\anaconda3\\Lib\\site-packages\\openpyxl\\styles\\stylesheet.py:237: UserWarning: Workbook contains no default style, apply openpyxl's default\n",
      "  warn(\"Workbook contains no default style, apply openpyxl's default\")\n",
      "C:\\Users\\ys000\\anaconda3\\Lib\\site-packages\\openpyxl\\styles\\stylesheet.py:237: UserWarning: Workbook contains no default style, apply openpyxl's default\n",
      "  warn(\"Workbook contains no default style, apply openpyxl's default\")\n"
     ]
    },
    {
     "name": "stdout",
     "output_type": "stream",
     "text": [
      "변환 완료: 진통 및 분만의 합병증_2021-06_2024-06.xlsx -> C:\\Users\\ys000\\capstone\\data\\질병_csv\\진통 및 분만의 합병증_2021-06_2024-06.csv\n",
      "변환 완료: 진행정도 상세불명 위암_2021-06_2024-06.xlsx -> C:\\Users\\ys000\\capstone\\data\\질병_csv\\진행정도 상세불명 위암_2021-06_2024-06.csv\n"
     ]
    },
    {
     "name": "stderr",
     "output_type": "stream",
     "text": [
      "C:\\Users\\ys000\\anaconda3\\Lib\\site-packages\\openpyxl\\styles\\stylesheet.py:237: UserWarning: Workbook contains no default style, apply openpyxl's default\n",
      "  warn(\"Workbook contains no default style, apply openpyxl's default\")\n",
      "C:\\Users\\ys000\\anaconda3\\Lib\\site-packages\\openpyxl\\styles\\stylesheet.py:237: UserWarning: Workbook contains no default style, apply openpyxl's default\n",
      "  warn(\"Workbook contains no default style, apply openpyxl's default\")\n"
     ]
    },
    {
     "name": "stdout",
     "output_type": "stream",
     "text": [
      "변환 완료: 진행형위암_2021-06_2024-06.xlsx -> C:\\Users\\ys000\\capstone\\data\\질병_csv\\진행형위암_2021-06_2024-06.csv\n",
      "변환 완료: 질염_2021-06_2024-06.xlsx -> C:\\Users\\ys000\\capstone\\data\\질병_csv\\질염_2021-06_2024-06.csv\n",
      "변환 완료: 척추관 협착증_2021-06_2024-06.xlsx -> C:\\Users\\ys000\\capstone\\data\\질병_csv\\척추관 협착증_2021-06_2024-06.csv\n"
     ]
    },
    {
     "name": "stderr",
     "output_type": "stream",
     "text": [
      "C:\\Users\\ys000\\anaconda3\\Lib\\site-packages\\openpyxl\\styles\\stylesheet.py:237: UserWarning: Workbook contains no default style, apply openpyxl's default\n",
      "  warn(\"Workbook contains no default style, apply openpyxl's default\")\n",
      "C:\\Users\\ys000\\anaconda3\\Lib\\site-packages\\openpyxl\\styles\\stylesheet.py:237: UserWarning: Workbook contains no default style, apply openpyxl's default\n",
      "  warn(\"Workbook contains no default style, apply openpyxl's default\")\n",
      "C:\\Users\\ys000\\anaconda3\\Lib\\site-packages\\openpyxl\\styles\\stylesheet.py:237: UserWarning: Workbook contains no default style, apply openpyxl's default\n",
      "  warn(\"Workbook contains no default style, apply openpyxl's default\")\n",
      "C:\\Users\\ys000\\anaconda3\\Lib\\site-packages\\openpyxl\\styles\\stylesheet.py:237: UserWarning: Workbook contains no default style, apply openpyxl's default\n",
      "  warn(\"Workbook contains no default style, apply openpyxl's default\")\n"
     ]
    },
    {
     "name": "stdout",
     "output_type": "stream",
     "text": [
      "변환 완료: 척추질환_2021-06_2024-06.xlsx -> C:\\Users\\ys000\\capstone\\data\\질병_csv\\척추질환_2021-06_2024-06.csv\n",
      "변환 완료: 추간판탈출증(디스크)_2021-06_2024-06.xlsx -> C:\\Users\\ys000\\capstone\\data\\질병_csv\\추간판탈출증(디스크)_2021-06_2024-06.csv\n"
     ]
    },
    {
     "name": "stderr",
     "output_type": "stream",
     "text": [
      "C:\\Users\\ys000\\anaconda3\\Lib\\site-packages\\openpyxl\\styles\\stylesheet.py:237: UserWarning: Workbook contains no default style, apply openpyxl's default\n",
      "  warn(\"Workbook contains no default style, apply openpyxl's default\")\n",
      "C:\\Users\\ys000\\anaconda3\\Lib\\site-packages\\openpyxl\\styles\\stylesheet.py:237: UserWarning: Workbook contains no default style, apply openpyxl's default\n",
      "  warn(\"Workbook contains no default style, apply openpyxl's default\")\n"
     ]
    },
    {
     "name": "stdout",
     "output_type": "stream",
     "text": [
      "변환 완료: 추간판탈출증_목 디스크_2021-06_2024-06.xlsx -> C:\\Users\\ys000\\capstone\\data\\질병_csv\\추간판탈출증_목 디스크_2021-06_2024-06.csv\n",
      "변환 완료: 추간판탈출증_허리 디스크_2021-06_2024-06.xlsx -> C:\\Users\\ys000\\capstone\\data\\질병_csv\\추간판탈출증_허리 디스크_2021-06_2024-06.csv\n"
     ]
    },
    {
     "name": "stderr",
     "output_type": "stream",
     "text": [
      "C:\\Users\\ys000\\anaconda3\\Lib\\site-packages\\openpyxl\\styles\\stylesheet.py:237: UserWarning: Workbook contains no default style, apply openpyxl's default\n",
      "  warn(\"Workbook contains no default style, apply openpyxl's default\")\n",
      "C:\\Users\\ys000\\anaconda3\\Lib\\site-packages\\openpyxl\\styles\\stylesheet.py:237: UserWarning: Workbook contains no default style, apply openpyxl's default\n",
      "  warn(\"Workbook contains no default style, apply openpyxl's default\")\n"
     ]
    },
    {
     "name": "stdout",
     "output_type": "stream",
     "text": [
      "변환 완료: 췌장암_2021-06_2024-06.xlsx -> C:\\Users\\ys000\\capstone\\data\\질병_csv\\췌장암_2021-06_2024-06.csv\n",
      "변환 완료: 췌장염_2021-06_2024-06.xlsx -> C:\\Users\\ys000\\capstone\\data\\질병_csv\\췌장염_2021-06_2024-06.csv\n"
     ]
    },
    {
     "name": "stderr",
     "output_type": "stream",
     "text": [
      "C:\\Users\\ys000\\anaconda3\\Lib\\site-packages\\openpyxl\\styles\\stylesheet.py:237: UserWarning: Workbook contains no default style, apply openpyxl's default\n",
      "  warn(\"Workbook contains no default style, apply openpyxl's default\")\n",
      "C:\\Users\\ys000\\anaconda3\\Lib\\site-packages\\openpyxl\\styles\\stylesheet.py:237: UserWarning: Workbook contains no default style, apply openpyxl's default\n",
      "  warn(\"Workbook contains no default style, apply openpyxl's default\")\n"
     ]
    },
    {
     "name": "stdout",
     "output_type": "stream",
     "text": [
      "변환 완료: 치매_2021-06_2024-06.xlsx -> C:\\Users\\ys000\\capstone\\data\\질병_csv\\치매_2021-06_2024-06.csv\n",
      "변환 완료: 치아우식증_2021-06_2024-06.xlsx -> C:\\Users\\ys000\\capstone\\data\\질병_csv\\치아우식증_2021-06_2024-06.csv\n",
      "변환 완료: 치주질환_2021-06_2024-06.xlsx -> C:\\Users\\ys000\\capstone\\data\\질병_csv\\치주질환_2021-06_2024-06.csv\n"
     ]
    },
    {
     "name": "stderr",
     "output_type": "stream",
     "text": [
      "C:\\Users\\ys000\\anaconda3\\Lib\\site-packages\\openpyxl\\styles\\stylesheet.py:237: UserWarning: Workbook contains no default style, apply openpyxl's default\n",
      "  warn(\"Workbook contains no default style, apply openpyxl's default\")\n",
      "C:\\Users\\ys000\\anaconda3\\Lib\\site-packages\\openpyxl\\styles\\stylesheet.py:237: UserWarning: Workbook contains no default style, apply openpyxl's default\n",
      "  warn(\"Workbook contains no default style, apply openpyxl's default\")\n"
     ]
    },
    {
     "name": "stdout",
     "output_type": "stream",
     "text": [
      "변환 완료: 치질_2021-06_2024-06.xlsx -> C:\\Users\\ys000\\capstone\\data\\질병_csv\\치질_2021-06_2024-06.csv\n",
      "변환 완료: 크론병_2021-06_2024-06.xlsx -> C:\\Users\\ys000\\capstone\\data\\질병_csv\\크론병_2021-06_2024-06.csv\n"
     ]
    },
    {
     "name": "stderr",
     "output_type": "stream",
     "text": [
      "C:\\Users\\ys000\\anaconda3\\Lib\\site-packages\\openpyxl\\styles\\stylesheet.py:237: UserWarning: Workbook contains no default style, apply openpyxl's default\n",
      "  warn(\"Workbook contains no default style, apply openpyxl's default\")\n",
      "C:\\Users\\ys000\\anaconda3\\Lib\\site-packages\\openpyxl\\styles\\stylesheet.py:237: UserWarning: Workbook contains no default style, apply openpyxl's default\n",
      "  warn(\"Workbook contains no default style, apply openpyxl's default\")\n"
     ]
    },
    {
     "name": "stdout",
     "output_type": "stream",
     "text": [
      "변환 완료: 탈모_2021-06_2024-06.xlsx -> C:\\Users\\ys000\\capstone\\data\\질병_csv\\탈모_2021-06_2024-06.csv\n",
      "변환 완료: 탈장_2021-06_2024-06.xlsx -> C:\\Users\\ys000\\capstone\\data\\질병_csv\\탈장_2021-06_2024-06.csv\n"
     ]
    },
    {
     "name": "stderr",
     "output_type": "stream",
     "text": [
      "C:\\Users\\ys000\\anaconda3\\Lib\\site-packages\\openpyxl\\styles\\stylesheet.py:237: UserWarning: Workbook contains no default style, apply openpyxl's default\n",
      "  warn(\"Workbook contains no default style, apply openpyxl's default\")\n",
      "C:\\Users\\ys000\\anaconda3\\Lib\\site-packages\\openpyxl\\styles\\stylesheet.py:237: UserWarning: Workbook contains no default style, apply openpyxl's default\n",
      "  warn(\"Workbook contains no default style, apply openpyxl's default\")\n"
     ]
    },
    {
     "name": "stdout",
     "output_type": "stream",
     "text": [
      "변환 완료: 테니스 엘보_2021-06_2024-06.xlsx -> C:\\Users\\ys000\\capstone\\data\\질병_csv\\테니스 엘보_2021-06_2024-06.csv\n",
      "변환 완료: 통풍_2021-06_2024-06.xlsx -> C:\\Users\\ys000\\capstone\\data\\질병_csv\\통풍_2021-06_2024-06.csv\n",
      "변환 완료: 퇴행성 관절증_2021-06_2024-06.xlsx -> C:\\Users\\ys000\\capstone\\data\\질병_csv\\퇴행성 관절증_2021-06_2024-06.csv\n"
     ]
    },
    {
     "name": "stderr",
     "output_type": "stream",
     "text": [
      "C:\\Users\\ys000\\anaconda3\\Lib\\site-packages\\openpyxl\\styles\\stylesheet.py:237: UserWarning: Workbook contains no default style, apply openpyxl's default\n",
      "  warn(\"Workbook contains no default style, apply openpyxl's default\")\n",
      "C:\\Users\\ys000\\anaconda3\\Lib\\site-packages\\openpyxl\\styles\\stylesheet.py:237: UserWarning: Workbook contains no default style, apply openpyxl's default\n",
      "  warn(\"Workbook contains no default style, apply openpyxl's default\")\n",
      "C:\\Users\\ys000\\anaconda3\\Lib\\site-packages\\openpyxl\\styles\\stylesheet.py:237: UserWarning: Workbook contains no default style, apply openpyxl's default\n",
      "  warn(\"Workbook contains no default style, apply openpyxl's default\")\n"
     ]
    },
    {
     "name": "stdout",
     "output_type": "stream",
     "text": [
      "변환 완료: 티눈_2021-06_2024-06.xlsx -> C:\\Users\\ys000\\capstone\\data\\질병_csv\\티눈_2021-06_2024-06.csv\n",
      "변환 완료: 틱장애_2021-06_2024-06.xlsx -> C:\\Users\\ys000\\capstone\\data\\질병_csv\\틱장애_2021-06_2024-06.csv\n"
     ]
    },
    {
     "name": "stderr",
     "output_type": "stream",
     "text": [
      "C:\\Users\\ys000\\anaconda3\\Lib\\site-packages\\openpyxl\\styles\\stylesheet.py:237: UserWarning: Workbook contains no default style, apply openpyxl's default\n",
      "  warn(\"Workbook contains no default style, apply openpyxl's default\")\n",
      "C:\\Users\\ys000\\anaconda3\\Lib\\site-packages\\openpyxl\\styles\\stylesheet.py:237: UserWarning: Workbook contains no default style, apply openpyxl's default\n",
      "  warn(\"Workbook contains no default style, apply openpyxl's default\")\n"
     ]
    },
    {
     "name": "stdout",
     "output_type": "stream",
     "text": [
      "변환 완료: 파킨슨증_2021-06_2024-06.xlsx -> C:\\Users\\ys000\\capstone\\data\\질병_csv\\파킨슨증_2021-06_2024-06.csv\n",
      "변환 완료: 패혈증_2021-06_2024-06.xlsx -> C:\\Users\\ys000\\capstone\\data\\질병_csv\\패혈증_2021-06_2024-06.csv\n"
     ]
    },
    {
     "name": "stderr",
     "output_type": "stream",
     "text": [
      "C:\\Users\\ys000\\anaconda3\\Lib\\site-packages\\openpyxl\\styles\\stylesheet.py:237: UserWarning: Workbook contains no default style, apply openpyxl's default\n",
      "  warn(\"Workbook contains no default style, apply openpyxl's default\")\n",
      "C:\\Users\\ys000\\anaconda3\\Lib\\site-packages\\openpyxl\\styles\\stylesheet.py:237: UserWarning: Workbook contains no default style, apply openpyxl's default\n",
      "  warn(\"Workbook contains no default style, apply openpyxl's default\")\n"
     ]
    },
    {
     "name": "stdout",
     "output_type": "stream",
     "text": [
      "변환 완료: 폐렴_2021-06_2024-06.xlsx -> C:\\Users\\ys000\\capstone\\data\\질병_csv\\폐렴_2021-06_2024-06.csv\n",
      "변환 완료: 폐암_2021-06_2024-06.xlsx -> C:\\Users\\ys000\\capstone\\data\\질병_csv\\폐암_2021-06_2024-06.csv\n"
     ]
    },
    {
     "name": "stderr",
     "output_type": "stream",
     "text": [
      "C:\\Users\\ys000\\anaconda3\\Lib\\site-packages\\openpyxl\\styles\\stylesheet.py:237: UserWarning: Workbook contains no default style, apply openpyxl's default\n",
      "  warn(\"Workbook contains no default style, apply openpyxl's default\")\n",
      "C:\\Users\\ys000\\anaconda3\\Lib\\site-packages\\openpyxl\\styles\\stylesheet.py:237: UserWarning: Workbook contains no default style, apply openpyxl's default\n",
      "  warn(\"Workbook contains no default style, apply openpyxl's default\")\n"
     ]
    },
    {
     "name": "stdout",
     "output_type": "stream",
     "text": [
      "변환 완료: 폭식증_2021-06_2024-06.xlsx -> C:\\Users\\ys000\\capstone\\data\\질병_csv\\폭식증_2021-06_2024-06.csv\n",
      "변환 완료: 피부암_2021-06_2024-06.xlsx -> C:\\Users\\ys000\\capstone\\data\\질병_csv\\피부암_2021-06_2024-06.csv\n",
      "변환 완료: 피부전구암_2021-06_2024-06.xlsx -> C:\\Users\\ys000\\capstone\\data\\질병_csv\\피부전구암_2021-06_2024-06.csv\n"
     ]
    },
    {
     "name": "stderr",
     "output_type": "stream",
     "text": [
      "C:\\Users\\ys000\\anaconda3\\Lib\\site-packages\\openpyxl\\styles\\stylesheet.py:237: UserWarning: Workbook contains no default style, apply openpyxl's default\n",
      "  warn(\"Workbook contains no default style, apply openpyxl's default\")\n",
      "C:\\Users\\ys000\\anaconda3\\Lib\\site-packages\\openpyxl\\styles\\stylesheet.py:237: UserWarning: Workbook contains no default style, apply openpyxl's default\n",
      "  warn(\"Workbook contains no default style, apply openpyxl's default\")\n",
      "C:\\Users\\ys000\\anaconda3\\Lib\\site-packages\\openpyxl\\styles\\stylesheet.py:237: UserWarning: Workbook contains no default style, apply openpyxl's default\n",
      "  warn(\"Workbook contains no default style, apply openpyxl's default\")\n",
      "C:\\Users\\ys000\\anaconda3\\Lib\\site-packages\\openpyxl\\styles\\stylesheet.py:237: UserWarning: Workbook contains no default style, apply openpyxl's default\n",
      "  warn(\"Workbook contains no default style, apply openpyxl's default\")\n"
     ]
    },
    {
     "name": "stdout",
     "output_type": "stream",
     "text": [
      "변환 완료: 하지의 정맥류_2021-06_2024-06.xlsx -> C:\\Users\\ys000\\capstone\\data\\질병_csv\\하지의 정맥류_2021-06_2024-06.csv\n",
      "변환 완료: 한랭질환_2021-06_2024-06.xlsx -> C:\\Users\\ys000\\capstone\\data\\질병_csv\\한랭질환_2021-06_2024-06.csv\n",
      "변환 완료: 허혈성 심질환_2021-06_2024-06.xlsx -> C:\\Users\\ys000\\capstone\\data\\질병_csv\\허혈성 심질환_2021-06_2024-06.csv\n"
     ]
    },
    {
     "name": "stderr",
     "output_type": "stream",
     "text": [
      "C:\\Users\\ys000\\anaconda3\\Lib\\site-packages\\openpyxl\\styles\\stylesheet.py:237: UserWarning: Workbook contains no default style, apply openpyxl's default\n",
      "  warn(\"Workbook contains no default style, apply openpyxl's default\")\n",
      "C:\\Users\\ys000\\anaconda3\\Lib\\site-packages\\openpyxl\\styles\\stylesheet.py:237: UserWarning: Workbook contains no default style, apply openpyxl's default\n",
      "  warn(\"Workbook contains no default style, apply openpyxl's default\")\n",
      "C:\\Users\\ys000\\anaconda3\\Lib\\site-packages\\openpyxl\\styles\\stylesheet.py:237: UserWarning: Workbook contains no default style, apply openpyxl's default\n",
      "  warn(\"Workbook contains no default style, apply openpyxl's default\")\n"
     ]
    },
    {
     "name": "stdout",
     "output_type": "stream",
     "text": [
      "변환 완료: 혈우병_2021-06_2024-06.xlsx -> C:\\Users\\ys000\\capstone\\data\\질병_csv\\혈우병_2021-06_2024-06.csv\n",
      "변환 완료: 협심증_2021-06_2024-06.xlsx -> C:\\Users\\ys000\\capstone\\data\\질병_csv\\협심증_2021-06_2024-06.csv\n"
     ]
    },
    {
     "name": "stderr",
     "output_type": "stream",
     "text": [
      "C:\\Users\\ys000\\anaconda3\\Lib\\site-packages\\openpyxl\\styles\\stylesheet.py:237: UserWarning: Workbook contains no default style, apply openpyxl's default\n",
      "  warn(\"Workbook contains no default style, apply openpyxl's default\")\n",
      "C:\\Users\\ys000\\anaconda3\\Lib\\site-packages\\openpyxl\\styles\\stylesheet.py:237: UserWarning: Workbook contains no default style, apply openpyxl's default\n",
      "  warn(\"Workbook contains no default style, apply openpyxl's default\")\n"
     ]
    },
    {
     "name": "stdout",
     "output_type": "stream",
     "text": [
      "변환 완료: 호흡계통의 질환_2021-06_2024-06.xlsx -> C:\\Users\\ys000\\capstone\\data\\질병_csv\\호흡계통의 질환_2021-06_2024-06.csv\n",
      "변환 완료: 호흡기 결핵_2021-06_2024-06.xlsx -> C:\\Users\\ys000\\capstone\\data\\질병_csv\\호흡기 결핵_2021-06_2024-06.csv\n"
     ]
    },
    {
     "name": "stderr",
     "output_type": "stream",
     "text": [
      "C:\\Users\\ys000\\anaconda3\\Lib\\site-packages\\openpyxl\\styles\\stylesheet.py:237: UserWarning: Workbook contains no default style, apply openpyxl's default\n",
      "  warn(\"Workbook contains no default style, apply openpyxl's default\")\n",
      "C:\\Users\\ys000\\anaconda3\\Lib\\site-packages\\openpyxl\\styles\\stylesheet.py:237: UserWarning: Workbook contains no default style, apply openpyxl's default\n",
      "  warn(\"Workbook contains no default style, apply openpyxl's default\")\n"
     ]
    },
    {
     "name": "stdout",
     "output_type": "stream",
     "text": [
      "변환 완료: 화상_2021-06_2024-06.xlsx -> C:\\Users\\ys000\\capstone\\data\\질병_csv\\화상_2021-06_2024-06.csv\n",
      "변환 완료: 환경성질환_아토피성 피부염_2021-06_2024-06.xlsx -> C:\\Users\\ys000\\capstone\\data\\질병_csv\\환경성질환_아토피성 피부염_2021-06_2024-06.csv\n"
     ]
    },
    {
     "name": "stderr",
     "output_type": "stream",
     "text": [
      "C:\\Users\\ys000\\anaconda3\\Lib\\site-packages\\openpyxl\\styles\\stylesheet.py:237: UserWarning: Workbook contains no default style, apply openpyxl's default\n",
      "  warn(\"Workbook contains no default style, apply openpyxl's default\")\n",
      "C:\\Users\\ys000\\anaconda3\\Lib\\site-packages\\openpyxl\\styles\\stylesheet.py:237: UserWarning: Workbook contains no default style, apply openpyxl's default\n",
      "  warn(\"Workbook contains no default style, apply openpyxl's default\")\n"
     ]
    },
    {
     "name": "stdout",
     "output_type": "stream",
     "text": [
      "변환 완료: 환경성질환_알레르기성 비염, 아토피성 피부염, 천식_2021-06_2024-06.xlsx -> C:\\Users\\ys000\\capstone\\data\\질병_csv\\환경성질환_알레르기성 비염, 아토피성 피부염, 천식_2021-06_2024-06.csv\n",
      "변환 완료: 환경성질환_알레르기성 비염_2021-06_2024-06.xlsx -> C:\\Users\\ys000\\capstone\\data\\질병_csv\\환경성질환_알레르기성 비염_2021-06_2024-06.csv\n"
     ]
    },
    {
     "name": "stderr",
     "output_type": "stream",
     "text": [
      "C:\\Users\\ys000\\anaconda3\\Lib\\site-packages\\openpyxl\\styles\\stylesheet.py:237: UserWarning: Workbook contains no default style, apply openpyxl's default\n",
      "  warn(\"Workbook contains no default style, apply openpyxl's default\")\n",
      "C:\\Users\\ys000\\anaconda3\\Lib\\site-packages\\openpyxl\\styles\\stylesheet.py:237: UserWarning: Workbook contains no default style, apply openpyxl's default\n",
      "  warn(\"Workbook contains no default style, apply openpyxl's default\")\n"
     ]
    },
    {
     "name": "stdout",
     "output_type": "stream",
     "text": [
      "변환 완료: 환경성질환_천식_2021-06_2024-06.xlsx -> C:\\Users\\ys000\\capstone\\data\\질병_csv\\환경성질환_천식_2021-06_2024-06.csv\n",
      "변환 완료: 황반변성_2021-06_2024-06.xlsx -> C:\\Users\\ys000\\capstone\\data\\질병_csv\\황반변성_2021-06_2024-06.csv\n",
      "변환 완료: 후두암_2021-06_2024-06.xlsx -> C:\\Users\\ys000\\capstone\\data\\질병_csv\\후두암_2021-06_2024-06.csv\n"
     ]
    },
    {
     "name": "stderr",
     "output_type": "stream",
     "text": [
      "C:\\Users\\ys000\\anaconda3\\Lib\\site-packages\\openpyxl\\styles\\stylesheet.py:237: UserWarning: Workbook contains no default style, apply openpyxl's default\n",
      "  warn(\"Workbook contains no default style, apply openpyxl's default\")\n",
      "C:\\Users\\ys000\\anaconda3\\Lib\\site-packages\\openpyxl\\styles\\stylesheet.py:237: UserWarning: Workbook contains no default style, apply openpyxl's default\n",
      "  warn(\"Workbook contains no default style, apply openpyxl's default\")\n",
      "C:\\Users\\ys000\\anaconda3\\Lib\\site-packages\\openpyxl\\styles\\stylesheet.py:237: UserWarning: Workbook contains no default style, apply openpyxl's default\n",
      "  warn(\"Workbook contains no default style, apply openpyxl's default\")\n"
     ]
    },
    {
     "name": "stdout",
     "output_type": "stream",
     "text": [
      "변환 완료: 후두염_2021-06_2024-06.xlsx -> C:\\Users\\ys000\\capstone\\data\\질병_csv\\후두염_2021-06_2024-06.csv\n",
      "변환 완료: 흉부대동맥류_2021-06_2024-06.xlsx -> C:\\Users\\ys000\\capstone\\data\\질병_csv\\흉부대동맥류_2021-06_2024-06.csv\n"
     ]
    }
   ],
   "source": [
    "import os\n",
    "import pandas as pd\n",
    "\n",
    "# 입력 및 출력 폴더 경로 설정\n",
    "input_folder = r\"C:\\Users\\ys000\\capstone\\data\\질병_xlsx\"\n",
    "output_folder = r\"C:\\Users\\ys000\\capstone\\data\\질병_csv\"\n",
    "os.makedirs(output_folder, exist_ok=True)\n",
    "\n",
    "# 모든 xlsx 파일 -> csv로 변환\n",
    "for filename in os.listdir(input_folder):\n",
    "    if filename.endswith(\".xlsx\"):\n",
    "        input_path = os.path.join(input_folder, filename)\n",
    "        output_path = os.path.join(output_folder, filename.replace(\".xlsx\", \".csv\"))\n",
    "        \n",
    "        try:\n",
    "            # 엑셀 파일 읽기\n",
    "            df = pd.read_excel(input_path, engine='openpyxl')\n",
    "            \n",
    "            # UTF-8 인코딩으로 CSV 파일 저장\n",
    "            df.to_csv(output_path, index=False, encoding='utf-8') \n",
    "            print(f\"변환 완료: {filename} -> {output_path}\")\n",
    "        except Exception as e:\n",
    "            print(f\"오류 발생: {filename} - {e}\")\n",
    "\n",
    "\n"
   ]
  },
  {
   "cell_type": "code",
   "execution_count": null,
   "id": "3319dc5e-42f3-4842-8670-db2cedba7fd7",
   "metadata": {},
   "outputs": [],
   "source": []
  }
 ],
 "metadata": {
  "kernelspec": {
   "display_name": "Python [conda env:base] *",
   "language": "python",
   "name": "conda-base-py"
  },
  "language_info": {
   "codemirror_mode": {
    "name": "ipython",
    "version": 3
   },
   "file_extension": ".py",
   "mimetype": "text/x-python",
   "name": "python",
   "nbconvert_exporter": "python",
   "pygments_lexer": "ipython3",
   "version": "3.12.7"
  }
 },
 "nbformat": 4,
 "nbformat_minor": 5
}
