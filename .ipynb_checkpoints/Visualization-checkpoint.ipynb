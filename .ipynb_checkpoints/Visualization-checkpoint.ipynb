{
 "cells": [
  {
   "cell_type": "code",
   "execution_count": 1,
   "id": "7459281f-cd1a-4649-ace2-c77043dd6689",
   "metadata": {},
   "outputs": [],
   "source": [
    "import pandas as pd\n",
    "import matplotlib.pyplot as plt\n",
    "\n",
    "# 데이터 읽기 (CSV 형식 가정)\n",
    "file_path = 'your_data.csv'  # 파일 경로 수정\n",
    "data = pd.read_csv(file_path, encoding='utf-8')\n",
    "\n",
    "# 1. 데이터 전처리\n",
    "# '년월' 열을 날짜 형식으로 변환\n",
    "data['년월'] = pd.to_datetime(data['년월'], format='%Y-%m')\n",
    "data = data.sort_values(by='년월')\n",
    "\n",
    "# 결측치 확인 및 처리\n",
    "print(data.isnull().sum())  # 결측치 확인\n",
    "data = data.dropna()  # 결측치 제거\n",
    "\n",
    "# 2. 기초 통계 분석\n",
    "print(data.describe())  # 기본 통계량\n",
    "\n",
    "# 3. 시각화: 월별 평균기온 추세\n",
    "plt.figure(figsize=(12, 6))\n",
    "plt.plot(data['년월'], data['평균기온(℃)'], marker='o', label='평균기온')\n",
    "plt.title('월별 평균기온 변화', fontsize=16)\n",
    "plt.xlabel('년월', fontsize=12)\n",
    "plt.ylabel('평균기온(℃)', fontsize=12)\n",
    "plt.grid(True)\n",
    "plt.legend()\n",
    "plt.show()\n",
    "\n",
    "# 4. 계절별 평균 기온 분석\n",
    "data['계절'] = data['년월'].dt.month % 12 // 3 + 1  # 계절: 1(봄), 2(여름), 3(가을), 4(겨울)\n",
    "seasonal_avg = data.groupby('계절')['평균기온(℃)'].mean()\n",
    "\n",
    "plt.figure(figsize=(8, 4))\n",
    "seasonal_avg.plot(kind='bar', color='skyblue')\n",
    "plt.title('계절별 평균기온', fontsize=16)\n",
    "plt.xlabel('계절', fontsize=12)\n",
    "plt.ylabel('평균기온(℃)', fontsize=12)\n",
    "plt.xticks(ticks=[0, 1, 2, 3], labels=['봄', '여름', '가을', '겨울'])\n",
    "plt.show()\n"
   ]
  }
 ],
 "metadata": {
  "kernelspec": {
   "display_name": "Python [conda env:base] *",
   "language": "python",
   "name": "conda-base-py"
  },
  "language_info": {
   "codemirror_mode": {
    "name": "ipython",
    "version": 3
   },
   "file_extension": ".py",
   "mimetype": "text/x-python",
   "name": "python",
   "nbconvert_exporter": "python",
   "pygments_lexer": "ipython3",
   "version": "3.12.7"
  }
 },
 "nbformat": 4,
 "nbformat_minor": 5
}
